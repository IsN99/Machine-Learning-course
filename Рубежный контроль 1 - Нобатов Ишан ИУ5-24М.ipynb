{
 "cells": [
  {
   "cell_type": "markdown",
   "id": "45104e70",
   "metadata": {},
   "source": [
    "Рубежный контроль 1\n",
    "Студент: Нобатов Ишан ИУ5-24М\n",
    "Вариант 10 (Задача 10 + Задача 30)"
   ]
  },
  {
   "cell_type": "markdown",
   "id": "53339ce5",
   "metadata": {},
   "source": [
    "Задача №10.\n",
    "Для набора данных проведите устранение пропусков для одного (произвольного) категориального \n",
    "признака с использованием метода заполнения наиболее распространенным значением."
   ]
  },
  {
   "cell_type": "code",
   "execution_count": 38,
   "id": "8c5f117a",
   "metadata": {},
   "outputs": [
    {
     "name": "stdout",
     "output_type": "stream",
     "text": [
      "Defaulting to user installation because normal site-packages is not writeable\n",
      "Collecting seaborn\n",
      "  Downloading seaborn-0.12.2-py3-none-any.whl (293 kB)\n",
      "\u001b[2K     \u001b[38;2;114;156;31m━━━━━━━━━━━━━━━━━━━━━━━━━━━━━━━━━━━━━\u001b[0m \u001b[32m293.3/293.3 kB\u001b[0m \u001b[31m264.4 kB/s\u001b[0m eta \u001b[36m0:00:00\u001b[0m[36m0:00:01\u001b[0m[36m0:00:01\u001b[0m:01\u001b[0m\n",
      "\u001b[?25hRequirement already satisfied: numpy!=1.24.0,>=1.17 in /home/user/.local/lib/python3.10/site-packages (from seaborn) (1.23.5)\n",
      "Requirement already satisfied: pandas>=0.25 in /home/user/.local/lib/python3.10/site-packages (from seaborn) (1.5.3)\n",
      "Requirement already satisfied: matplotlib!=3.6.1,>=3.1 in /usr/lib/python3/dist-packages (from seaborn) (3.5.1)\n",
      "Requirement already satisfied: python-dateutil>=2.8.1 in /usr/lib/python3/dist-packages (from pandas>=0.25->seaborn) (2.8.1)\n",
      "Requirement already satisfied: pytz>=2020.1 in /usr/lib/python3/dist-packages (from pandas>=0.25->seaborn) (2022.1)\n",
      "Installing collected packages: seaborn\n",
      "Successfully installed seaborn-0.12.2\n"
     ]
    }
   ],
   "source": [
    "# Библиотеки\n",
    "# !pip install seaborn\n",
    "import pandas as pd\n",
    "import matplotlib.pyplot as plt\n",
    "import seaborn as sns"
   ]
  },
  {
   "cell_type": "code",
   "execution_count": 22,
   "id": "922088ed",
   "metadata": {},
   "outputs": [
    {
     "name": "stderr",
     "output_type": "stream",
     "text": [
      "/tmp/ipykernel_64369/3119205725.py:2: DtypeWarning: Columns (48,49) have mixed types. Specify dtype option on import or set low_memory=False.\n",
      "  data = pd.read_csv('датасеты/311_Service_Requests_from_2010_to_Present.csv')\n"
     ]
    },
    {
     "data": {
      "text/html": [
       "<div>\n",
       "<style scoped>\n",
       "    .dataframe tbody tr th:only-of-type {\n",
       "        vertical-align: middle;\n",
       "    }\n",
       "\n",
       "    .dataframe tbody tr th {\n",
       "        vertical-align: top;\n",
       "    }\n",
       "\n",
       "    .dataframe thead th {\n",
       "        text-align: right;\n",
       "    }\n",
       "</style>\n",
       "<table border=\"1\" class=\"dataframe\">\n",
       "  <thead>\n",
       "    <tr style=\"text-align: right;\">\n",
       "      <th></th>\n",
       "      <th>Unique Key</th>\n",
       "      <th>Created Date</th>\n",
       "      <th>Closed Date</th>\n",
       "      <th>Agency</th>\n",
       "      <th>Agency Name</th>\n",
       "      <th>Complaint Type</th>\n",
       "      <th>Descriptor</th>\n",
       "      <th>Location Type</th>\n",
       "      <th>Incident Zip</th>\n",
       "      <th>Incident Address</th>\n",
       "      <th>...</th>\n",
       "      <th>Bridge Highway Name</th>\n",
       "      <th>Bridge Highway Direction</th>\n",
       "      <th>Road Ramp</th>\n",
       "      <th>Bridge Highway Segment</th>\n",
       "      <th>Garage Lot Name</th>\n",
       "      <th>Ferry Direction</th>\n",
       "      <th>Ferry Terminal Name</th>\n",
       "      <th>Latitude</th>\n",
       "      <th>Longitude</th>\n",
       "      <th>Location</th>\n",
       "    </tr>\n",
       "  </thead>\n",
       "  <tbody>\n",
       "    <tr>\n",
       "      <th>0</th>\n",
       "      <td>32310363</td>\n",
       "      <td>12/31/2015 11:59:45 PM</td>\n",
       "      <td>01/01/2016 12:55:15 AM</td>\n",
       "      <td>NYPD</td>\n",
       "      <td>New York City Police Department</td>\n",
       "      <td>Noise - Street/Sidewalk</td>\n",
       "      <td>Loud Music/Party</td>\n",
       "      <td>Street/Sidewalk</td>\n",
       "      <td>10034.0</td>\n",
       "      <td>71 VERMILYEA AVENUE</td>\n",
       "      <td>...</td>\n",
       "      <td>NaN</td>\n",
       "      <td>NaN</td>\n",
       "      <td>NaN</td>\n",
       "      <td>NaN</td>\n",
       "      <td>NaN</td>\n",
       "      <td>NaN</td>\n",
       "      <td>NaN</td>\n",
       "      <td>40.865682</td>\n",
       "      <td>-73.923501</td>\n",
       "      <td>(40.86568153633767, -73.92350095571744)</td>\n",
       "    </tr>\n",
       "    <tr>\n",
       "      <th>1</th>\n",
       "      <td>32309934</td>\n",
       "      <td>12/31/2015 11:59:44 PM</td>\n",
       "      <td>01/01/2016 01:26:57 AM</td>\n",
       "      <td>NYPD</td>\n",
       "      <td>New York City Police Department</td>\n",
       "      <td>Blocked Driveway</td>\n",
       "      <td>No Access</td>\n",
       "      <td>Street/Sidewalk</td>\n",
       "      <td>11105.0</td>\n",
       "      <td>27-07 23 AVENUE</td>\n",
       "      <td>...</td>\n",
       "      <td>NaN</td>\n",
       "      <td>NaN</td>\n",
       "      <td>NaN</td>\n",
       "      <td>NaN</td>\n",
       "      <td>NaN</td>\n",
       "      <td>NaN</td>\n",
       "      <td>NaN</td>\n",
       "      <td>40.775945</td>\n",
       "      <td>-73.915094</td>\n",
       "      <td>(40.775945312321085, -73.91509393898605)</td>\n",
       "    </tr>\n",
       "    <tr>\n",
       "      <th>2</th>\n",
       "      <td>32309159</td>\n",
       "      <td>12/31/2015 11:59:29 PM</td>\n",
       "      <td>01/01/2016 04:51:03 AM</td>\n",
       "      <td>NYPD</td>\n",
       "      <td>New York City Police Department</td>\n",
       "      <td>Blocked Driveway</td>\n",
       "      <td>No Access</td>\n",
       "      <td>Street/Sidewalk</td>\n",
       "      <td>10458.0</td>\n",
       "      <td>2897 VALENTINE AVENUE</td>\n",
       "      <td>...</td>\n",
       "      <td>NaN</td>\n",
       "      <td>NaN</td>\n",
       "      <td>NaN</td>\n",
       "      <td>NaN</td>\n",
       "      <td>NaN</td>\n",
       "      <td>NaN</td>\n",
       "      <td>NaN</td>\n",
       "      <td>40.870325</td>\n",
       "      <td>-73.888525</td>\n",
       "      <td>(40.870324522111424, -73.88852464418646)</td>\n",
       "    </tr>\n",
       "    <tr>\n",
       "      <th>3</th>\n",
       "      <td>32305098</td>\n",
       "      <td>12/31/2015 11:57:46 PM</td>\n",
       "      <td>01/01/2016 07:43:13 AM</td>\n",
       "      <td>NYPD</td>\n",
       "      <td>New York City Police Department</td>\n",
       "      <td>Illegal Parking</td>\n",
       "      <td>Commercial Overnight Parking</td>\n",
       "      <td>Street/Sidewalk</td>\n",
       "      <td>10461.0</td>\n",
       "      <td>2940 BAISLEY AVENUE</td>\n",
       "      <td>...</td>\n",
       "      <td>NaN</td>\n",
       "      <td>NaN</td>\n",
       "      <td>NaN</td>\n",
       "      <td>NaN</td>\n",
       "      <td>NaN</td>\n",
       "      <td>NaN</td>\n",
       "      <td>NaN</td>\n",
       "      <td>40.835994</td>\n",
       "      <td>-73.828379</td>\n",
       "      <td>(40.83599404683083, -73.82837939584206)</td>\n",
       "    </tr>\n",
       "    <tr>\n",
       "      <th>4</th>\n",
       "      <td>32306529</td>\n",
       "      <td>12/31/2015 11:56:58 PM</td>\n",
       "      <td>01/01/2016 03:24:42 AM</td>\n",
       "      <td>NYPD</td>\n",
       "      <td>New York City Police Department</td>\n",
       "      <td>Illegal Parking</td>\n",
       "      <td>Blocked Sidewalk</td>\n",
       "      <td>Street/Sidewalk</td>\n",
       "      <td>11373.0</td>\n",
       "      <td>87-14 57 ROAD</td>\n",
       "      <td>...</td>\n",
       "      <td>NaN</td>\n",
       "      <td>NaN</td>\n",
       "      <td>NaN</td>\n",
       "      <td>NaN</td>\n",
       "      <td>NaN</td>\n",
       "      <td>NaN</td>\n",
       "      <td>NaN</td>\n",
       "      <td>40.733060</td>\n",
       "      <td>-73.874170</td>\n",
       "      <td>(40.733059618956815, -73.87416975810375)</td>\n",
       "    </tr>\n",
       "  </tbody>\n",
       "</table>\n",
       "<p>5 rows × 53 columns</p>\n",
       "</div>"
      ],
      "text/plain": [
       "   Unique Key            Created Date             Closed Date Agency  \\\n",
       "0    32310363  12/31/2015 11:59:45 PM  01/01/2016 12:55:15 AM   NYPD   \n",
       "1    32309934  12/31/2015 11:59:44 PM  01/01/2016 01:26:57 AM   NYPD   \n",
       "2    32309159  12/31/2015 11:59:29 PM  01/01/2016 04:51:03 AM   NYPD   \n",
       "3    32305098  12/31/2015 11:57:46 PM  01/01/2016 07:43:13 AM   NYPD   \n",
       "4    32306529  12/31/2015 11:56:58 PM  01/01/2016 03:24:42 AM   NYPD   \n",
       "\n",
       "                       Agency Name           Complaint Type  \\\n",
       "0  New York City Police Department  Noise - Street/Sidewalk   \n",
       "1  New York City Police Department         Blocked Driveway   \n",
       "2  New York City Police Department         Blocked Driveway   \n",
       "3  New York City Police Department          Illegal Parking   \n",
       "4  New York City Police Department          Illegal Parking   \n",
       "\n",
       "                     Descriptor    Location Type  Incident Zip  \\\n",
       "0              Loud Music/Party  Street/Sidewalk       10034.0   \n",
       "1                     No Access  Street/Sidewalk       11105.0   \n",
       "2                     No Access  Street/Sidewalk       10458.0   \n",
       "3  Commercial Overnight Parking  Street/Sidewalk       10461.0   \n",
       "4              Blocked Sidewalk  Street/Sidewalk       11373.0   \n",
       "\n",
       "        Incident Address  ... Bridge Highway Name Bridge Highway Direction  \\\n",
       "0    71 VERMILYEA AVENUE  ...                 NaN                      NaN   \n",
       "1        27-07 23 AVENUE  ...                 NaN                      NaN   \n",
       "2  2897 VALENTINE AVENUE  ...                 NaN                      NaN   \n",
       "3    2940 BAISLEY AVENUE  ...                 NaN                      NaN   \n",
       "4          87-14 57 ROAD  ...                 NaN                      NaN   \n",
       "\n",
       "  Road Ramp Bridge Highway Segment Garage Lot Name Ferry Direction  \\\n",
       "0       NaN                    NaN             NaN             NaN   \n",
       "1       NaN                    NaN             NaN             NaN   \n",
       "2       NaN                    NaN             NaN             NaN   \n",
       "3       NaN                    NaN             NaN             NaN   \n",
       "4       NaN                    NaN             NaN             NaN   \n",
       "\n",
       "  Ferry Terminal Name   Latitude  Longitude  \\\n",
       "0                 NaN  40.865682 -73.923501   \n",
       "1                 NaN  40.775945 -73.915094   \n",
       "2                 NaN  40.870325 -73.888525   \n",
       "3                 NaN  40.835994 -73.828379   \n",
       "4                 NaN  40.733060 -73.874170   \n",
       "\n",
       "                                   Location  \n",
       "0   (40.86568153633767, -73.92350095571744)  \n",
       "1  (40.775945312321085, -73.91509393898605)  \n",
       "2  (40.870324522111424, -73.88852464418646)  \n",
       "3   (40.83599404683083, -73.82837939584206)  \n",
       "4  (40.733059618956815, -73.87416975810375)  \n",
       "\n",
       "[5 rows x 53 columns]"
      ]
     },
     "execution_count": 22,
     "metadata": {},
     "output_type": "execute_result"
    }
   ],
   "source": [
    "# Загружаем датасет\n",
    "data = pd.read_csv('датасеты/311_Service_Requests_from_2010_to_Present.csv')\n",
    "data.head()"
   ]
  },
  {
   "cell_type": "code",
   "execution_count": 23,
   "id": "0ef22796",
   "metadata": {},
   "outputs": [
    {
     "data": {
      "text/plain": [
       "Unique Key                             0\n",
       "Created Date                           0\n",
       "Closed Date                         2381\n",
       "Agency                                 0\n",
       "Agency Name                            0\n",
       "Complaint Type                         0\n",
       "Descriptor                          6501\n",
       "Location Type                        133\n",
       "Incident Zip                        2998\n",
       "Incident Address                   51699\n",
       "Street Name                        51699\n",
       "Cross Street 1                     57188\n",
       "Cross Street 2                     57805\n",
       "Intersection Street 1             313438\n",
       "Intersection Street 2             314046\n",
       "Address Type                        3252\n",
       "City                                2997\n",
       "Landmark                          364183\n",
       "Facility Type                       2389\n",
       "Status                                 0\n",
       "Due Date                               3\n",
       "Resolution Description                 0\n",
       "Resolution Action Updated Date      2402\n",
       "Community Board                        0\n",
       "Borough                                0\n",
       "X Coordinate (State Plane)          4030\n",
       "Y Coordinate (State Plane)          4030\n",
       "Park Facility Name                     0\n",
       "Park Borough                           0\n",
       "School Name                            0\n",
       "School Number                          0\n",
       "School Region                          1\n",
       "School Code                            1\n",
       "School Phone Number                    0\n",
       "School Address                         0\n",
       "School City                            0\n",
       "School State                           0\n",
       "School Zip                             1\n",
       "School Not Found                       0\n",
       "School or Citywide Complaint      364558\n",
       "Vehicle Type                      364558\n",
       "Taxi Company Borough              364558\n",
       "Taxi Pick Up Location             364558\n",
       "Bridge Highway Name               364261\n",
       "Bridge Highway Direction          364261\n",
       "Road Ramp                         364296\n",
       "Bridge Highway Segment            364296\n",
       "Garage Lot Name                   364558\n",
       "Ferry Direction                   364557\n",
       "Ferry Terminal Name               364556\n",
       "Latitude                            4030\n",
       "Longitude                           4030\n",
       "Location                            4030\n",
       "dtype: int64"
      ]
     },
     "execution_count": 23,
     "metadata": {},
     "output_type": "execute_result"
    }
   ],
   "source": [
    "# подсчет количества пропущенных значений по столбцам\n",
    "missing_values_count = data.isnull().sum()\n",
    "missing_values_count"
   ]
  },
  {
   "cell_type": "code",
   "execution_count": 24,
   "id": "b0083c4a",
   "metadata": {},
   "outputs": [
    {
     "data": {
      "text/plain": [
       "'ADDRESS'"
      ]
     },
     "execution_count": 24,
     "metadata": {},
     "output_type": "execute_result"
    }
   ],
   "source": [
    "# Выбираем категориальный признак address type\n",
    "categorical_feature = 'Address Type'\n",
    "# определение наиболее распространенного значения для выбранного признака\n",
    "most_common_value = data[categorical_feature].mode()[0]\n",
    "most_common_value"
   ]
  },
  {
   "cell_type": "code",
   "execution_count": 26,
   "id": "251c6bf1",
   "metadata": {},
   "outputs": [
    {
     "data": {
      "image/png": "[encoded data removed]",
      "text/plain": [
       "<Figure size 432x288 with 1 Axes>"
      ]
     },
     "metadata": {
      "needs_background": "light"
     },
     "output_type": "display_data"
    }
   ],
   "source": [
    "# Построение бар-чарта\n",
    "data[categorical_feature].value_counts().plot(kind='bar')\n",
    "\n",
    "# Добавление названий осей\n",
    "plt.xlabel('Тип адреса')\n",
    "plt.ylabel('Количество')\n",
    "\n",
    "# Добавление заголовка\n",
    "plt.title('Распределение типов адреса')\n",
    "\n",
    "# Отображение графика\n",
    "plt.show()"
   ]
  },
  {
   "cell_type": "markdown",
   "id": "69c2fdb5",
   "metadata": {},
   "source": [
    "Как видно наиболее распространенным типом адреса является ADDRESS"
   ]
  },
  {
   "cell_type": "code",
   "execution_count": 27,
   "id": "40771f6d",
   "metadata": {},
   "outputs": [],
   "source": [
    "# заполняем пустые значения\n",
    "data[categorical_feature].fillna(most_common_value, inplace=True) "
   ]
  },
  {
   "cell_type": "code",
   "execution_count": 28,
   "id": "7a9827e5",
   "metadata": {},
   "outputs": [
    {
     "data": {
      "image/png": "[encoded data removed]",
      "text/plain": [
       "<Figure size 432x288 with 1 Axes>"
      ]
     },
     "metadata": {
      "needs_background": "light"
     },
     "output_type": "display_data"
    }
   ],
   "source": [
    "# строим диаграмму после заполнения\n",
    "\n",
    "data[categorical_feature].value_counts().plot(kind='bar')\n",
    "\n",
    "plt.xlabel('Тип адреса')\n",
    "plt.ylabel('Количество')\n",
    "\n",
    "plt.title('Распределение типов адреса')\n",
    "\n",
    "plt.show()"
   ]
  },
  {
   "cell_type": "markdown",
   "id": "838eddcb",
   "metadata": {},
   "source": [
    "Задача №30.\n",
    "Для набора данных проведите удаление повторяющихся признаков."
   ]
  },
  {
   "cell_type": "code",
   "execution_count": 30,
   "id": "73d3316d",
   "metadata": {},
   "outputs": [
    {
     "data": {
      "text/plain": [
       "Unique Key                        364558\n",
       "Created Date                      362018\n",
       "Closed Date                       339837\n",
       "Agency                                 1\n",
       "Agency Name                            3\n",
       "Complaint Type                        24\n",
       "Descriptor                            45\n",
       "Location Type                         18\n",
       "Incident Zip                         201\n",
       "Incident Address                  126372\n",
       "Street Name                         7693\n",
       "Cross Street 1                      6234\n",
       "Cross Street 2                      6064\n",
       "Intersection Street 1               4704\n",
       "Intersection Street 2               4422\n",
       "Address Type                           5\n",
       "City                                  53\n",
       "Landmark                             120\n",
       "Facility Type                          1\n",
       "Status                                 4\n",
       "Due Date                          362015\n",
       "Resolution Description                18\n",
       "Resolution Action Updated Date    340833\n",
       "Community Board                       75\n",
       "Borough                                6\n",
       "X Coordinate (State Plane)         68410\n",
       "Y Coordinate (State Plane)         79924\n",
       "Park Facility Name                     2\n",
       "Park Borough                           6\n",
       "School Name                            2\n",
       "School Number                          2\n",
       "School Region                          1\n",
       "School Code                            1\n",
       "School Phone Number                    2\n",
       "School Address                         2\n",
       "School City                            2\n",
       "School State                           2\n",
       "School Zip                             1\n",
       "School Not Found                       1\n",
       "School or Citywide Complaint           0\n",
       "Vehicle Type                           0\n",
       "Taxi Company Borough                   0\n",
       "Taxi Pick Up Location                  0\n",
       "Bridge Highway Name                   29\n",
       "Bridge Highway Direction              34\n",
       "Road Ramp                              2\n",
       "Bridge Highway Segment               187\n",
       "Garage Lot Name                        0\n",
       "Ferry Direction                        1\n",
       "Ferry Terminal Name                    2\n",
       "Latitude                          146740\n",
       "Longitude                         146473\n",
       "Location                          146751\n",
       "dtype: int64"
      ]
     },
     "execution_count": 30,
     "metadata": {},
     "output_type": "execute_result"
    }
   ],
   "source": [
    "# получим количество уникальных значений для каждого столбца\n",
    "unique_counts = data.nunique()\n",
    "unique_counts"
   ]
  },
  {
   "cell_type": "code",
   "execution_count": 36,
   "id": "d947daaa",
   "metadata": {},
   "outputs": [
    {
     "data": {
      "text/plain": [
       "Unique Key                        364558\n",
       "Created Date                      362018\n",
       "Closed Date                       339837\n",
       "Agency Name                            3\n",
       "Complaint Type                        24\n",
       "Descriptor                            45\n",
       "Location Type                         18\n",
       "Incident Zip                         201\n",
       "Incident Address                  126372\n",
       "Street Name                         7693\n",
       "Cross Street 1                      6234\n",
       "Cross Street 2                      6064\n",
       "Intersection Street 1               4704\n",
       "Intersection Street 2               4422\n",
       "Address Type                           5\n",
       "City                                  53\n",
       "Landmark                             120\n",
       "Status                                 4\n",
       "Due Date                          362015\n",
       "Resolution Description                18\n",
       "Resolution Action Updated Date    340833\n",
       "Community Board                       75\n",
       "Borough                                6\n",
       "X Coordinate (State Plane)         68410\n",
       "Y Coordinate (State Plane)         79924\n",
       "Park Facility Name                     2\n",
       "Park Borough                           6\n",
       "School Name                            2\n",
       "School Number                          2\n",
       "School Phone Number                    2\n",
       "School Address                         2\n",
       "School City                            2\n",
       "School State                           2\n",
       "Bridge Highway Name                   29\n",
       "Bridge Highway Direction              34\n",
       "Road Ramp                              2\n",
       "Bridge Highway Segment               187\n",
       "Ferry Terminal Name                    2\n",
       "Latitude                          146740\n",
       "Longitude                         146473\n",
       "Location                          146751\n",
       "dtype: int64"
      ]
     },
     "execution_count": 36,
     "metadata": {},
     "output_type": "execute_result"
    }
   ],
   "source": [
    "# список столбцов с повторяющимися значениями\n",
    "repeated_columns = unique_counts[unique_counts == 1].index.tolist()\n",
    "# список пустых колонок\n",
    "empty_columns = unique_counts[unique_counts == 0].index.tolist()\n",
    "# удалить выбранные столбцы\n",
    "data = data.drop(repeated_columns, axis=1)\n",
    "data = data.drop(empty_columns, axis=1)\n",
    "# результаты\n",
    "unique_counts = data.nunique()\n",
    "unique_counts"
   ]
  },
  {
   "cell_type": "markdown",
   "id": "b98153cb",
   "metadata": {},
   "source": [
    "Дополнительные требования по группам:\n",
    "\n",
    "Для студентов группы ИУ5-24М - для произвольной колонки данных построить график \"Скрипичная диаграмма (violin plot)\"."
   ]
  },
  {
   "cell_type": "code",
   "execution_count": 43,
   "id": "da0e6eba",
   "metadata": {},
   "outputs": [
    {
     "data": {
      "text/plain": [
       "<AxesSubplot:xlabel='Month'>"
      ]
     },
     "execution_count": 43,
     "metadata": {},
     "output_type": "execute_result"
    },
    {
     "data": {
      "image/png": "[encoded data removed]",
      "text/plain": [
       "<Figure size 432x288 with 1 Axes>"
      ]
     },
     "metadata": {
      "needs_background": "light"
     },
     "output_type": "display_data"
    }
   ],
   "source": [
    "# строим скрипичнуб диаграмму\n",
    "data['Created Date'] = pd.to_datetime(data['Created Date'])\n",
    "\n",
    "# Извлечение месяца из даты\n",
    "data['Month'] = data['Created Date'].dt.month\n",
    "\n",
    "# Создание скрипичной диаграммы\n",
    "sns.violinplot(x='Month', data=data)"
   ]
  },
  {
   "cell_type": "code",
   "execution_count": null,
   "id": "95a6b1ab",
   "metadata": {},
   "outputs": [],
   "source": []
  }
 ],
 "metadata": {
  "kernelspec": {
   "display_name": "Python 3 (ipykernel)",
   "language": "python",
   "name": "python3"
  },
  "language_info": {
   "codemirror_mode": {
    "name": "ipython",
    "version": 3
   },
   "file_extension": ".py",
   "mimetype": "text/x-python",
   "name": "python",
   "nbconvert_exporter": "python",
   "pygments_lexer": "ipython3",
   "version": "3.10.6"
  }
 },
 "nbformat": 4,
 "nbformat_minor": 5
}

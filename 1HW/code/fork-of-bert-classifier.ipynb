{
 "cells": [
  {
   "cell_type": "code",
   "execution_count": 27,
   "metadata": {
    "execution": {
     "iopub.execute_input": "2023-05-24T09:31:14.985538Z",
     "iopub.status.busy": "2023-05-24T09:31:14.985156Z",
     "iopub.status.idle": "2023-05-24T09:31:14.989932Z",
     "shell.execute_reply": "2023-05-24T09:31:14.989004Z",
     "shell.execute_reply.started": "2023-05-24T09:31:14.985496Z"
    },
    "id": "aBiclyiFYiNW"
   },
   "outputs": [],
   "source": [
    "import re\n",
    "from pathlib import Path\n",
    "import numpy as np\n",
    "import pandas as pd"
   ]
  },
  {
   "cell_type": "code",
   "execution_count": 28,
   "metadata": {
    "execution": {
     "iopub.execute_input": "2023-05-24T09:31:16.261898Z",
     "iopub.status.busy": "2023-05-24T09:31:16.261544Z",
     "iopub.status.idle": "2023-05-24T09:31:16.266754Z",
     "shell.execute_reply": "2023-05-24T09:31:16.265671Z",
     "shell.execute_reply.started": "2023-05-24T09:31:16.261868Z"
    },
    "id": "Wflb1_jIz3k6"
   },
   "outputs": [],
   "source": [
    "import matplotlib.pyplot as plt\n",
    "import seaborn as sns"
   ]
  },
  {
   "cell_type": "code",
   "execution_count": 29,
   "metadata": {
    "execution": {
     "iopub.execute_input": "2023-05-24T09:31:17.447598Z",
     "iopub.status.busy": "2023-05-24T09:31:17.445257Z",
     "iopub.status.idle": "2023-05-24T09:31:28.743846Z",
     "shell.execute_reply": "2023-05-24T09:31:28.742642Z",
     "shell.execute_reply.started": "2023-05-24T09:31:17.447543Z"
    },
    "id": "f4hVarFGz6Xm",
    "outputId": "4ba46497-b45f-4d2d-ff42-7228370b1dc8"
   },
   "outputs": [
    {
     "name": "stdout",
     "output_type": "stream",
     "text": [
      "Requirement already satisfied: transformers in /opt/conda/lib/python3.10/site-packages (4.28.1)\n",
      "Requirement already satisfied: pyyaml>=5.1 in /opt/conda/lib/python3.10/site-packages (from transformers) (6.0)\n",
      "Requirement already satisfied: regex!=2019.12.17 in /opt/conda/lib/python3.10/site-packages (from transformers) (2023.3.23)\n",
      "Requirement already satisfied: requests in /opt/conda/lib/python3.10/site-packages (from transformers) (2.28.2)\n",
      "Requirement already satisfied: filelock in /opt/conda/lib/python3.10/site-packages (from transformers) (3.11.0)\n",
      "Requirement already satisfied: tqdm>=4.27 in /opt/conda/lib/python3.10/site-packages (from transformers) (4.64.1)\n",
      "Requirement already satisfied: huggingface-hub<1.0,>=0.11.0 in /opt/conda/lib/python3.10/site-packages (from transformers) (0.13.4)\n",
      "Requirement already satisfied: numpy>=1.17 in /opt/conda/lib/python3.10/site-packages (from transformers) (1.23.5)\n",
      "Requirement already satisfied: packaging>=20.0 in /opt/conda/lib/python3.10/site-packages (from transformers) (21.3)\n",
      "Requirement already satisfied: tokenizers!=0.11.3,<0.14,>=0.11.1 in /opt/conda/lib/python3.10/site-packages (from transformers) (0.13.3)\n",
      "Requirement already satisfied: typing-extensions>=3.7.4.3 in /opt/conda/lib/python3.10/site-packages (from huggingface-hub<1.0,>=0.11.0->transformers) (4.5.0)\n",
      "Requirement already satisfied: pyparsing!=3.0.5,>=2.0.2 in /opt/conda/lib/python3.10/site-packages (from packaging>=20.0->transformers) (3.0.9)\n",
      "Requirement already satisfied: urllib3<1.27,>=1.21.1 in /opt/conda/lib/python3.10/site-packages (from requests->transformers) (1.26.15)\n",
      "Requirement already satisfied: certifi>=2017.4.17 in /opt/conda/lib/python3.10/site-packages (from requests->transformers) (2022.12.7)\n",
      "Requirement already satisfied: idna<4,>=2.5 in /opt/conda/lib/python3.10/site-packages (from requests->transformers) (3.4)\n",
      "Requirement already satisfied: charset-normalizer<4,>=2 in /opt/conda/lib/python3.10/site-packages (from requests->transformers) (2.1.1)\n",
      "\u001b[33mWARNING: Running pip as the 'root' user can result in broken permissions and conflicting behaviour with the system package manager. It is recommended to use a virtual environment instead: https://pip.pypa.io/warnings/venv\u001b[0m\u001b[33m\n",
      "\u001b[0m"
     ]
    }
   ],
   "source": [
    "import torch\n",
    "from torchtext.vocab import build_vocab_from_iterator\n",
    "!pip install transformers\n",
    "from transformers import BertTokenizer"
   ]
  },
  {
   "cell_type": "code",
   "execution_count": 30,
   "metadata": {
    "execution": {
     "iopub.execute_input": "2023-05-24T09:31:28.752004Z",
     "iopub.status.busy": "2023-05-24T09:31:28.749813Z",
     "iopub.status.idle": "2023-05-24T09:31:28.758629Z",
     "shell.execute_reply": "2023-05-24T09:31:28.757533Z",
     "shell.execute_reply.started": "2023-05-24T09:31:28.751964Z"
    },
    "id": "GSETkGgdSu_o"
   },
   "outputs": [],
   "source": [
    "from typing import Callable"
   ]
  },
  {
   "cell_type": "code",
   "execution_count": 31,
   "metadata": {
    "execution": {
     "iopub.execute_input": "2023-05-24T09:31:28.765637Z",
     "iopub.status.busy": "2023-05-24T09:31:28.762598Z",
     "iopub.status.idle": "2023-05-24T09:31:28.777763Z",
     "shell.execute_reply": "2023-05-24T09:31:28.776640Z",
     "shell.execute_reply.started": "2023-05-24T09:31:28.765604Z"
    },
    "id": "up3Bs7bNsFwG"
   },
   "outputs": [],
   "source": [
    "from sklearn.metrics import accuracy_score, precision_recall_fscore_support"
   ]
  },
  {
   "cell_type": "code",
   "execution_count": 32,
   "metadata": {
    "execution": {
     "iopub.execute_input": "2023-05-24T09:31:28.782361Z",
     "iopub.status.busy": "2023-05-24T09:31:28.780922Z",
     "iopub.status.idle": "2023-05-24T09:31:28.789594Z",
     "shell.execute_reply": "2023-05-24T09:31:28.788726Z",
     "shell.execute_reply.started": "2023-05-24T09:31:28.782309Z"
    },
    "id": "0xlYoeH8Ap8e"
   },
   "outputs": [],
   "source": [
    "from torch.utils.data import DataLoader, TensorDataset"
   ]
  },
  {
   "cell_type": "code",
   "execution_count": 33,
   "metadata": {
    "execution": {
     "iopub.execute_input": "2023-05-24T09:31:28.793228Z",
     "iopub.status.busy": "2023-05-24T09:31:28.791186Z",
     "iopub.status.idle": "2023-05-24T09:31:28.802743Z",
     "shell.execute_reply": "2023-05-24T09:31:28.801790Z",
     "shell.execute_reply.started": "2023-05-24T09:31:28.793194Z"
    },
    "id": "KFmqrRsd3x3-"
   },
   "outputs": [],
   "source": [
    "from sklearn.model_selection import RepeatedStratifiedKFold, train_test_split\n",
    "from sklearn.preprocessing import LabelEncoder"
   ]
  },
  {
   "cell_type": "code",
   "execution_count": 34,
   "metadata": {
    "execution": {
     "iopub.execute_input": "2023-05-24T09:31:28.805190Z",
     "iopub.status.busy": "2023-05-24T09:31:28.804425Z",
     "iopub.status.idle": "2023-05-24T09:31:28.812756Z",
     "shell.execute_reply": "2023-05-24T09:31:28.811868Z",
     "shell.execute_reply.started": "2023-05-24T09:31:28.805154Z"
    },
    "id": "4f860B9dBEeU"
   },
   "outputs": [],
   "source": [
    "import torch.nn as nn\n",
    "from transformers import BertModel"
   ]
  },
  {
   "cell_type": "code",
   "execution_count": 35,
   "metadata": {
    "execution": {
     "iopub.execute_input": "2023-05-24T09:31:28.815217Z",
     "iopub.status.busy": "2023-05-24T09:31:28.814309Z",
     "iopub.status.idle": "2023-05-24T09:31:28.823469Z",
     "shell.execute_reply": "2023-05-24T09:31:28.822250Z",
     "shell.execute_reply.started": "2023-05-24T09:31:28.815180Z"
    },
    "id": "mduuNEYXz8AP"
   },
   "outputs": [],
   "source": [
    "def simplify_text(s):\n",
    "    # Remove all non-word characters (everything except numbers and letters)\n",
    "    s = re.sub(r\"[^\\w\\s]\", ' ', s)\n",
    "\n",
    "    # Replace all runs of whitespace with a single dash\n",
    "    s = re.sub(r\"\\s+\", '-', s)\n",
    "\n",
    "    return s"
   ]
  },
  {
   "cell_type": "code",
   "execution_count": 36,
   "metadata": {
    "execution": {
     "iopub.execute_input": "2023-05-24T09:31:28.826710Z",
     "iopub.status.busy": "2023-05-24T09:31:28.824872Z",
     "iopub.status.idle": "2023-05-24T09:31:28.849987Z",
     "shell.execute_reply": "2023-05-24T09:31:28.848999Z",
     "shell.execute_reply.started": "2023-05-24T09:31:28.826620Z"
    },
    "id": "FdhBUsUhz8DW"
   },
   "outputs": [],
   "source": [
    "dataset = Path(\"/kaggle/input/for-task\") / \"financial.json\"\n",
    "\n",
    "\n",
    "def read_dataset(threshold: int = 30, verbose: bool = False) -> pd.DataFrame:\n",
    "    \"\"\"\n",
    "    Read the dataset from file and return it cleaned of null values/rows\n",
    "\n",
    "    :param threshold: Minimum numbers of class representatives necessary for a class to be included in the final\n",
    "                      dataset\n",
    "    :return: filtered data (as pd.df)\n",
    "    \"\"\"\n",
    "    # Read all data in a DataFrame\n",
    "    data = pd.read_json(dataset)\n",
    "    sub_data: pd.DataFrame = data[\"_source\"].apply(pd.Series)\n",
    "    data = pd.concat([data.drop(columns=\"_source\"), sub_data], axis=1)\n",
    "    if verbose:\n",
    "        print(data.shape[0])\n",
    "\n",
    "    # Keep only tickets that have a message description\n",
    "    data[\"complaint_what_happened\"] = data[\"complaint_what_happened\"].map(lambda x: re.sub(r\"XXXX|XX/XX/\\d{4}\", \"\", x))\n",
    "    filtered_data = data[data[\"complaint_what_happened\"].str.len() != 0]\n",
    "    if verbose:\n",
    "        print(filtered_data.shape[0])\n",
    "    filtered_data = filtered_data[~filtered_data[\"complaint_what_happened\"].isnull()]\n",
    "    if verbose:\n",
    "        print(filtered_data.shape[0])\n",
    "        print(f\"Average character number in ticket body: {filtered_data['complaint_what_happened'].str.len().mean():.2f}\")\n",
    "\n",
    "    # Find missing values in product and sub_product\n",
    "    null_prods = filtered_data[\"product\"].isnull().sum()\n",
    "    null_subs = filtered_data[\"sub_product\"].isnull().sum()\n",
    "    if verbose:\n",
    "        print(f\"Nan values in 'product': {null_prods}\")\n",
    "        print(f\"Nan values in 'sub_product': {null_subs}\")\n",
    "\n",
    "    # Fill missing sub_products fields with product values\n",
    "    if verbose:\n",
    "        print(\"Fixing missing values ...\")\n",
    "    filtered_data[\"sub_product\"] = filtered_data[\"sub_product\"].fillna(filtered_data[\"product\"])\n",
    "\n",
    "    null_prods = filtered_data[\"product\"].isnull().sum()\n",
    "    null_subs = filtered_data[\"sub_product\"].isnull().sum()\n",
    "    if verbose:\n",
    "        print(f\"Nan values in 'product': {null_prods}\")\n",
    "        print(f\"Nan values in 'sub_product': {null_subs}\")\n",
    "\n",
    "    # Clean useless columns\n",
    "    keep = [\"complaint_what_happened\", \"product\", \"sub_product\"]\n",
    "    filtered_data = filtered_data.loc[:, keep]\n",
    "    filtered_data.columns = [\"message\", \"label\", \"sub_label\"]\n",
    "\n",
    "    # Delete duplicate rows\n",
    "    filtered_data = filtered_data.drop_duplicates(subset=[\"message\"], keep=\"first\")\n",
    "    filtered_data = filtered_data.dropna(axis=0)\n",
    "\n",
    "    filtered_data.loc[:, \"label\"] = filtered_data[\"label\"].map(simplify_text)\n",
    "    filtered_data = filtered_data.dropna(axis=0)\n",
    "    filtered_data.loc[:, \"sub_label\"] = filtered_data[\"sub_label\"].map(simplify_text)\n",
    "    filtered_data = filtered_data.dropna(axis=0)\n",
    "    filtered_data[\"flattened_label\"] = filtered_data[\"label\"] + \"_\" + filtered_data[\"sub_label\"]\n",
    "    filtered_data = filtered_data.reset_index(drop=True)\n",
    "\n",
    "    # Remove categories appearing < tot times\n",
    "    c1 = filtered_data[\"label\"].value_counts()\n",
    "    filtered_data = filtered_data.replace(c1[c1 < threshold].index, np.nan).dropna(axis=0)\n",
    "    c2 = filtered_data[\"sub_label\"].value_counts()\n",
    "    filtered_data = filtered_data.replace(c2[c2 < threshold].index, np.nan).dropna(axis=0)\n",
    "    filtered_data = filtered_data.reset_index(drop=True)\n",
    "\n",
    "    if verbose:\n",
    "        print(f\"Final dataset of size: {filtered_data.shape}\")\n",
    "        print(filtered_data.columns.to_series().to_string(index=False))\n",
    "        print(filtered_data.isnull().sum(axis=0))\n",
    "        print(filtered_data.shape[0])\n",
    "    return filtered_data"
   ]
  },
  {
   "cell_type": "code",
   "execution_count": 37,
   "metadata": {
    "execution": {
     "iopub.execute_input": "2023-05-24T09:31:29.035204Z",
     "iopub.status.busy": "2023-05-24T09:31:29.034814Z",
     "iopub.status.idle": "2023-05-24T09:31:58.912257Z",
     "shell.execute_reply": "2023-05-24T09:31:58.911257Z",
     "shell.execute_reply.started": "2023-05-24T09:31:29.035172Z"
    },
    "id": "0WagPe7g0BER",
    "outputId": "9dc640d6-c7af-43a4-e90a-056dbb13ad6f"
   },
   "outputs": [
    {
     "data": {
      "text/html": [
       "<div>\n",
       "<style scoped>\n",
       "    .dataframe tbody tr th:only-of-type {\n",
       "        vertical-align: middle;\n",
       "    }\n",
       "\n",
       "    .dataframe tbody tr th {\n",
       "        vertical-align: top;\n",
       "    }\n",
       "\n",
       "    .dataframe thead th {\n",
       "        text-align: right;\n",
       "    }\n",
       "</style>\n",
       "<table border=\"1\" class=\"dataframe\">\n",
       "  <thead>\n",
       "    <tr style=\"text-align: right;\">\n",
       "      <th></th>\n",
       "      <th>message</th>\n",
       "      <th>label</th>\n",
       "      <th>sub_label</th>\n",
       "      <th>flattened_label</th>\n",
       "    </tr>\n",
       "  </thead>\n",
       "  <tbody>\n",
       "    <tr>\n",
       "      <th>0</th>\n",
       "      <td>Good morning my name is   and I appreciate it ...</td>\n",
       "      <td>Debt-collection</td>\n",
       "      <td>Credit-card-debt</td>\n",
       "      <td>Debt-collection_Credit-card-debt</td>\n",
       "    </tr>\n",
       "    <tr>\n",
       "      <th>1</th>\n",
       "      <td>I upgraded my   card in  and was told by the a...</td>\n",
       "      <td>Credit-card-or-prepaid-card</td>\n",
       "      <td>General-purpose-credit-card-or-charge-card</td>\n",
       "      <td>Credit-card-or-prepaid-card_General-purpose-cr...</td>\n",
       "    </tr>\n",
       "    <tr>\n",
       "      <th>2</th>\n",
       "      <td>Chase Card was reported on . However, fraudule...</td>\n",
       "      <td>Credit-reporting-credit-repair-services-or-oth...</td>\n",
       "      <td>Other-personal-consumer-report</td>\n",
       "      <td>Credit-reporting-credit-repair-services-or-oth...</td>\n",
       "    </tr>\n",
       "    <tr>\n",
       "      <th>3</th>\n",
       "      <td>On , while trying to book a     ticket, I came...</td>\n",
       "      <td>Credit-reporting-credit-repair-services-or-oth...</td>\n",
       "      <td>Credit-reporting</td>\n",
       "      <td>Credit-reporting-credit-repair-services-or-oth...</td>\n",
       "    </tr>\n",
       "    <tr>\n",
       "      <th>4</th>\n",
       "      <td>my grand son give me check for {$1600.00} i de...</td>\n",
       "      <td>Checking-or-savings-account</td>\n",
       "      <td>Checking-account</td>\n",
       "      <td>Checking-or-savings-account_Checking-account</td>\n",
       "    </tr>\n",
       "  </tbody>\n",
       "</table>\n",
       "</div>"
      ],
      "text/plain": [
       "                                             message  \\\n",
       "0  Good morning my name is   and I appreciate it ...   \n",
       "1  I upgraded my   card in  and was told by the a...   \n",
       "2  Chase Card was reported on . However, fraudule...   \n",
       "3  On , while trying to book a     ticket, I came...   \n",
       "4  my grand son give me check for {$1600.00} i de...   \n",
       "\n",
       "                                               label  \\\n",
       "0                                    Debt-collection   \n",
       "1                        Credit-card-or-prepaid-card   \n",
       "2  Credit-reporting-credit-repair-services-or-oth...   \n",
       "3  Credit-reporting-credit-repair-services-or-oth...   \n",
       "4                        Checking-or-savings-account   \n",
       "\n",
       "                                    sub_label  \\\n",
       "0                            Credit-card-debt   \n",
       "1  General-purpose-credit-card-or-charge-card   \n",
       "2              Other-personal-consumer-report   \n",
       "3                            Credit-reporting   \n",
       "4                            Checking-account   \n",
       "\n",
       "                                     flattened_label  \n",
       "0                   Debt-collection_Credit-card-debt  \n",
       "1  Credit-card-or-prepaid-card_General-purpose-cr...  \n",
       "2  Credit-reporting-credit-repair-services-or-oth...  \n",
       "3  Credit-reporting-credit-repair-services-or-oth...  \n",
       "4       Checking-or-savings-account_Checking-account  "
      ]
     },
     "execution_count": 37,
     "metadata": {},
     "output_type": "execute_result"
    }
   ],
   "source": [
    "read_financial = read_dataset()\n",
    "read_financial.head()"
   ]
  },
  {
   "cell_type": "code",
   "execution_count": 38,
   "metadata": {
    "execution": {
     "iopub.execute_input": "2023-05-24T09:31:58.914717Z",
     "iopub.status.busy": "2023-05-24T09:31:58.914352Z",
     "iopub.status.idle": "2023-05-24T09:31:58.923897Z",
     "shell.execute_reply": "2023-05-24T09:31:58.922886Z",
     "shell.execute_reply.started": "2023-05-24T09:31:58.914682Z"
    },
    "id": "7QduxYeMN1Gv",
    "outputId": "0280c69b-81e1-4721-f3d5-5ccc864584b4"
   },
   "outputs": [
    {
     "data": {
      "text/plain": [
       "14"
      ]
     },
     "execution_count": 38,
     "metadata": {},
     "output_type": "execute_result"
    }
   ],
   "source": [
    "num_classes = read_financial.label.nunique()\n",
    "num_classes"
   ]
  },
  {
   "cell_type": "code",
   "execution_count": 39,
   "metadata": {
    "execution": {
     "iopub.execute_input": "2023-05-24T09:31:58.925943Z",
     "iopub.status.busy": "2023-05-24T09:31:58.925594Z",
     "iopub.status.idle": "2023-05-24T09:31:58.958935Z",
     "shell.execute_reply": "2023-05-24T09:31:58.957590Z",
     "shell.execute_reply.started": "2023-05-24T09:31:58.925911Z"
    }
   },
   "outputs": [
    {
     "data": {
      "text/html": [
       "<div>\n",
       "<style scoped>\n",
       "    .dataframe tbody tr th:only-of-type {\n",
       "        vertical-align: middle;\n",
       "    }\n",
       "\n",
       "    .dataframe tbody tr th {\n",
       "        vertical-align: top;\n",
       "    }\n",
       "\n",
       "    .dataframe thead th {\n",
       "        text-align: right;\n",
       "    }\n",
       "</style>\n",
       "<table border=\"1\" class=\"dataframe\">\n",
       "  <thead>\n",
       "    <tr style=\"text-align: right;\">\n",
       "      <th></th>\n",
       "      <th>message</th>\n",
       "      <th>label</th>\n",
       "      <th>sub_label</th>\n",
       "      <th>flattened_label</th>\n",
       "    </tr>\n",
       "  </thead>\n",
       "  <tbody>\n",
       "    <tr>\n",
       "      <th>0</th>\n",
       "      <td>Good morning my name is   and I appreciate it ...</td>\n",
       "      <td>Debt</td>\n",
       "      <td>Credit-card-debt</td>\n",
       "      <td>Debt-collection_Credit-card-debt</td>\n",
       "    </tr>\n",
       "    <tr>\n",
       "      <th>1</th>\n",
       "      <td>I upgraded my   card in  and was told by the a...</td>\n",
       "      <td>Credit</td>\n",
       "      <td>General-purpose-credit-card-or-charge-card</td>\n",
       "      <td>Credit-card-or-prepaid-card_General-purpose-cr...</td>\n",
       "    </tr>\n",
       "    <tr>\n",
       "      <th>2</th>\n",
       "      <td>Chase Card was reported on . However, fraudule...</td>\n",
       "      <td>Credit</td>\n",
       "      <td>Other-personal-consumer-report</td>\n",
       "      <td>Credit-reporting-credit-repair-services-or-oth...</td>\n",
       "    </tr>\n",
       "    <tr>\n",
       "      <th>3</th>\n",
       "      <td>On , while trying to book a     ticket, I came...</td>\n",
       "      <td>Credit</td>\n",
       "      <td>Credit-reporting</td>\n",
       "      <td>Credit-reporting-credit-repair-services-or-oth...</td>\n",
       "    </tr>\n",
       "    <tr>\n",
       "      <th>4</th>\n",
       "      <td>my grand son give me check for {$1600.00} i de...</td>\n",
       "      <td>Banking</td>\n",
       "      <td>Checking-account</td>\n",
       "      <td>Checking-or-savings-account_Checking-account</td>\n",
       "    </tr>\n",
       "  </tbody>\n",
       "</table>\n",
       "</div>"
      ],
      "text/plain": [
       "                                             message    label  \\\n",
       "0  Good morning my name is   and I appreciate it ...     Debt   \n",
       "1  I upgraded my   card in  and was told by the a...   Credit   \n",
       "2  Chase Card was reported on . However, fraudule...   Credit   \n",
       "3  On , while trying to book a     ticket, I came...   Credit   \n",
       "4  my grand son give me check for {$1600.00} i de...  Banking   \n",
       "\n",
       "                                    sub_label  \\\n",
       "0                            Credit-card-debt   \n",
       "1  General-purpose-credit-card-or-charge-card   \n",
       "2              Other-personal-consumer-report   \n",
       "3                            Credit-reporting   \n",
       "4                            Checking-account   \n",
       "\n",
       "                                     flattened_label  \n",
       "0                   Debt-collection_Credit-card-debt  \n",
       "1  Credit-card-or-prepaid-card_General-purpose-cr...  \n",
       "2  Credit-reporting-credit-repair-services-or-oth...  \n",
       "3  Credit-reporting-credit-repair-services-or-oth...  \n",
       "4       Checking-or-savings-account_Checking-account  "
      ]
     },
     "execution_count": 39,
     "metadata": {},
     "output_type": "execute_result"
    }
   ],
   "source": [
    "class_mapping = {\n",
    "    'Bank-account-or-service': 'Banking',\n",
    "    'Checking-or-savings-account': 'Banking',\n",
    "    'Consumer-Loan': 'Loans',\n",
    "    'Credit-card': 'Credit',\n",
    "    'Credit-card-or-prepaid-card': 'Credit',\n",
    "    'Credit-reporting': 'Credit',\n",
    "    'Credit-reporting-credit-repair-services-or-other-personal-consumer-reports': 'Credit',\n",
    "    'Debt-collection': 'Debt',\n",
    "    'Money-transfer-virtual-currency-or-money-service': 'Money',\n",
    "    'Money-transfers': 'Money',\n",
    "    'Mortgage': 'Loans',\n",
    "    'Payday-loan-title-loan-or-personal-loan': 'Loans',\n",
    "    'Student-loan': 'Loans',\n",
    "    'Vehicle-loan-or-lease': 'Loans'\n",
    "}\n",
    "\n",
    "# Замена значений в столбце \"label\" с использованием словаря соответствий\n",
    "read_financial['label'] = read_financial['label'].map(class_mapping)\n",
    "\n",
    "# Вывод измененного датафрейма\n",
    "read_financial.head()"
   ]
  },
  {
   "cell_type": "code",
   "execution_count": 40,
   "metadata": {
    "execution": {
     "iopub.execute_input": "2023-05-24T09:31:58.964913Z",
     "iopub.status.busy": "2023-05-24T09:31:58.964611Z",
     "iopub.status.idle": "2023-05-24T09:31:58.980725Z",
     "shell.execute_reply": "2023-05-24T09:31:58.979264Z",
     "shell.execute_reply.started": "2023-05-24T09:31:58.964889Z"
    }
   },
   "outputs": [
    {
     "data": {
      "text/plain": [
       "5"
      ]
     },
     "execution_count": 40,
     "metadata": {},
     "output_type": "execute_result"
    }
   ],
   "source": [
    "num_classes = read_financial.label.nunique()\n",
    "num_classes"
   ]
  },
  {
   "cell_type": "code",
   "execution_count": 41,
   "metadata": {
    "execution": {
     "iopub.execute_input": "2023-05-24T09:31:58.986300Z",
     "iopub.status.busy": "2023-05-24T09:31:58.984555Z",
     "iopub.status.idle": "2023-05-24T09:31:59.268151Z",
     "shell.execute_reply": "2023-05-24T09:31:59.267104Z",
     "shell.execute_reply.started": "2023-05-24T09:31:58.985976Z"
    },
    "id": "cK1x9Uls0vwI",
    "outputId": "41f7f7ad-edf3-4366-975f-e08752c2b21d"
   },
   "outputs": [
    {
     "data": {
      "image/png": "[encoded data removed]",
      "text/plain": [
       "<Figure size 640x480 with 1 Axes>"
      ]
     },
     "metadata": {},
     "output_type": "display_data"
    }
   ],
   "source": [
    "# Подсчет количества значений в каждом классе\n",
    "class_counts = read_financial['label'].value_counts()\n",
    "\n",
    "# Сортировка классов по количеству в убывающем порядке\n",
    "class_counts = class_counts.sort_values(ascending=False)\n",
    "\n",
    "# Построение упорядоченной горизонтальной гистограммы\n",
    "plt.barh(class_counts.index, class_counts.values)\n",
    "plt.xlabel('Количество')\n",
    "plt.ylabel('Классы')\n",
    "plt.title('Гистограмма по классам')\n",
    "plt.show()\n",
    "\n"
   ]
  },
  {
   "cell_type": "code",
   "execution_count": 42,
   "metadata": {
    "execution": {
     "iopub.execute_input": "2023-05-24T09:31:59.269850Z",
     "iopub.status.busy": "2023-05-24T09:31:59.269346Z",
     "iopub.status.idle": "2023-05-24T09:31:59.278101Z",
     "shell.execute_reply": "2023-05-24T09:31:59.276918Z",
     "shell.execute_reply.started": "2023-05-24T09:31:59.269817Z"
    },
    "id": "8PirVZMP02b3"
   },
   "outputs": [],
   "source": [
    "def regex_fun(regex: str, value: str) -> Callable:\n",
    "    return lambda x: re.sub(regex, value, x)\n",
    "\n",
    "\n",
    "# def remove_linux_garbage(data):\n",
    "#     \"\"\"\n",
    "#     Taken from: https://arxiv.org/abs/1807.02892\n",
    "#     Linux data contains lots of garbage, e.g. memory addresses - 0000f800\n",
    "#     \"\"\"\n",
    "\n",
    "#     def is_garbage(w):\n",
    "#         return len(w) >= 7 and sum(c.isdigit() for c in w) >= 2\n",
    "\n",
    "#     data = data.map(lambda s: ' '.join(map(lambda w: w if not is_garbage(w) else ' ', s.split())))\n",
    "#     return data\n",
    "\n",
    "\n",
    "def text_cleanup(msg, remove_garbage: bool = False):\n",
    "    msg = msg.map(regex_fun(\"\\r\", \" \"))\n",
    "    msg = msg.map(regex_fun(\"\\n\", \" \"))\n",
    "    # 2. Remove URLs\n",
    "    msg = msg.map(regex_fun(r\"http[s]?://(?:[a-zA-Z]|[0-9]|[$-_@.&+]|[!*\\(\\),]|(?:%[0-9a-fA-F][0-9a-fA-F]))+\", \"\"))\n",
    "    # 3. Remove Stack Trace\n",
    "    # msg = msg.map(lambda s: (s + \" \")[:s.find(\"Stack trace:\")])  # WARN return -1 on failure\n",
    "    # 4. Remove hex code\n",
    "    msg = msg.map(regex_fun(r\"(\\w+)0x\\w+\", \"\"))\n",
    "#     # 5. Remove linux garbage\n",
    "#     if remove_garbage:\n",
    "#         msg = remove_linux_garbage(msg)\n",
    "    # 6. Change to lower case\n",
    "    return msg.map(str.lower)"
   ]
  },
  {
   "cell_type": "code",
   "execution_count": 43,
   "metadata": {
    "execution": {
     "iopub.execute_input": "2023-05-24T09:31:59.280007Z",
     "iopub.status.busy": "2023-05-24T09:31:59.279397Z",
     "iopub.status.idle": "2023-05-24T09:32:04.505164Z",
     "shell.execute_reply": "2023-05-24T09:32:04.504247Z",
     "shell.execute_reply.started": "2023-05-24T09:31:59.279956Z"
    },
    "id": "OFe4wrAe05RB",
    "outputId": "f8fa0a2f-cf06-40ca-94b4-1c6c8d8bf67c"
   },
   "outputs": [
    {
     "data": {
      "text/plain": [
       "0        good morning my name is   and i appreciate it ...\n",
       "1        i upgraded my   card in  and was told by the a...\n",
       "2        chase card was reported on . however, fraudule...\n",
       "3        on , while trying to book a     ticket, i came...\n",
       "4        my grand son give me check for {$1600.00} i de...\n",
       "                               ...                        \n",
       "20585    my husband passed away. chase bank put check o...\n",
       "20586    after being a chase card customer for well ove...\n",
       "20587    on wednesday, xx/xx/ i called chas, my   visa ...\n",
       "20588    i am not familiar with  pay and did not unders...\n",
       "20589    i have had flawless credit for 30 yrs. i've ha...\n",
       "Name: message, Length: 20590, dtype: object"
      ]
     },
     "execution_count": 43,
     "metadata": {},
     "output_type": "execute_result"
    }
   ],
   "source": [
    "# как выглядит очищенный текст\n",
    "text_cleanup(read_financial.message)"
   ]
  },
  {
   "cell_type": "code",
   "execution_count": 44,
   "metadata": {
    "execution": {
     "iopub.execute_input": "2023-05-24T09:32:04.508353Z",
     "iopub.status.busy": "2023-05-24T09:32:04.507992Z",
     "iopub.status.idle": "2023-05-24T09:32:04.518755Z",
     "shell.execute_reply": "2023-05-24T09:32:04.517689Z",
     "shell.execute_reply.started": "2023-05-24T09:32:04.508310Z"
    },
    "id": "W0Gh6zLf6R3P"
   },
   "outputs": [],
   "source": [
    "def split_dataset(dataframe, test_size=0.2, max_length=128):\n",
    "    # Инициализация токенизатора BERT\n",
    "    tokenizer = BertTokenizer.from_pretrained('bert-base-uncased')\n",
    "    \n",
    "    # Извлечение признаков и меток классов из датафрейма\n",
    "    X = text_cleanup(dataframe[\"message\"]).tolist()\n",
    "    y = dataframe[\"label\"].tolist()\n",
    "\n",
    "    # Преобразование меток классов в числовые значения\n",
    "    label_encoder = LabelEncoder()\n",
    "    y = label_encoder.fit_transform(y)\n",
    "    class_mapping = dict(zip(label_encoder.classes_, label_encoder.transform(label_encoder.classes_)))\n",
    "    print (class_mapping)\n",
    "    # Токенизация текстовых данных\n",
    "    X_tokenized = tokenizer.batch_encode_plus(\n",
    "        X, \n",
    "        add_special_tokens=True, # Добавление специальных токенов [CLS] и [SEP]\n",
    "        max_length=max_length, # Ограничение длины входных данных\n",
    "        padding='max_length', # Добавление паддинга до максимальной длины\n",
    "        truncation=True, # Обрезание текста, если он превышает максимальную длину\n",
    "        return_attention_mask=True, # Генерация маски внимания\n",
    "        return_tensors='pt' # Возвращение данных в виде PyTorch тензоров\n",
    "    )\n",
    "    \n",
    "    # Конвертация меток классов в тензор PyTorch\n",
    "    y = torch.tensor(y)\n",
    "    \n",
    "    # Разбиение данных на обучающую и тестовую выборки\n",
    "    X_train, X_test, y_train, y_test, attention_train, attention_test, token_train, token_test = train_test_split(X_tokenized['input_ids'], y, X_tokenized['attention_mask'], X_tokenized['token_type_ids'], test_size=test_size, random_state=42)\n",
    "        \n",
    "    # Возвращение готовых для дообучения BERT данных\n",
    "    return X_train, X_test, y_train, y_test, attention_train, attention_test, token_train, token_test\n"
   ]
  },
  {
   "cell_type": "code",
   "execution_count": 45,
   "metadata": {
    "execution": {
     "iopub.execute_input": "2023-05-24T09:32:04.522288Z",
     "iopub.status.busy": "2023-05-24T09:32:04.521798Z",
     "iopub.status.idle": "2023-05-24T09:35:11.628704Z",
     "shell.execute_reply": "2023-05-24T09:35:11.627695Z",
     "shell.execute_reply.started": "2023-05-24T09:32:04.522257Z"
    },
    "id": "gqOWQfzjA7_M"
   },
   "outputs": [
    {
     "name": "stdout",
     "output_type": "stream",
     "text": [
      "{'Banking': 0, 'Credit': 1, 'Debt': 2, 'Loans': 3, 'Money': 4}\n"
     ]
    }
   ],
   "source": [
    "X_train, X_test, y_train, y_test, attention_train, attention_test, token_train, token_test = split_dataset(read_financial)"
   ]
  },
  {
   "cell_type": "code",
   "execution_count": 47,
   "metadata": {
    "execution": {
     "iopub.execute_input": "2023-05-24T09:35:11.642614Z",
     "iopub.status.busy": "2023-05-24T09:35:11.641833Z",
     "iopub.status.idle": "2023-05-24T09:35:11.657153Z",
     "shell.execute_reply": "2023-05-24T09:35:11.656246Z",
     "shell.execute_reply.started": "2023-05-24T09:35:11.642579Z"
    },
    "id": "UAWajqzgLcKr"
   },
   "outputs": [],
   "source": [
    "# Создание датасетов PyTorch\n",
    "train_dataset = TensorDataset(X_train, attention_train, token_train, y_train)\n",
    "test_dataset = TensorDataset(X_test, attention_test, token_test, y_test)\n",
    "\n",
    "# Создание DataLoader'ов для обучения и тестирования модели\n",
    "batch_size = 64\n",
    "train_loader = DataLoader(train_dataset, batch_size=batch_size, shuffle=True)\n",
    "test_loader = DataLoader(test_dataset, batch_size=batch_size)"
   ]
  },
  {
   "cell_type": "code",
   "execution_count": 43,
   "metadata": {
    "execution": {
     "iopub.execute_input": "2023-05-24T08:53:58.164230Z",
     "iopub.status.busy": "2023-05-24T08:53:58.163839Z",
     "iopub.status.idle": "2023-05-24T08:53:58.174075Z",
     "shell.execute_reply": "2023-05-24T08:53:58.173190Z",
     "shell.execute_reply.started": "2023-05-24T08:53:58.164197Z"
    },
    "id": "PhgNq3-TQmAK"
   },
   "outputs": [],
   "source": [
    "class BertClassifier(nn.Module):\n",
    "    def __init__(self, num_classes):\n",
    "        super(BertClassifier, self).__init__()\n",
    "\n",
    "        self.bert1 = BertModel.from_pretrained('bert-base-uncased')\n",
    "        self.bert1.requires_grad_(False)  # Замораживаем веса\n",
    "\n",
    "        self.bert2 = BertModel.from_pretrained('bert-base-uncased')\n",
    "        self.bert2.requires_grad_(False)  # Замораживаем веса\n",
    "\n",
    "        self.fc = nn.Linear(self.bert1.config.hidden_size + self.bert2.config.hidden_size, num_classes)\n",
    "        self.dropout = nn.Dropout(0.1)\n",
    "\n",
    "    def forward(self, input_ids, attention_mask, token_train):\n",
    "        pooled_output1 = self.bert1(input_ids=input_ids, attention_mask=attention_mask, token_type_ids=token_train)[1]\n",
    "        pooled_output2 = self.bert2(input_ids=input_ids, attention_mask=attention_mask, token_type_ids=token_train)[1]\n",
    "\n",
    "        combined_output = torch.cat((pooled_output1, pooled_output2), dim=1)\n",
    "        combined_output = self.dropout(combined_output)\n",
    "\n",
    "        logits = self.fc(combined_output)\n",
    "        return logits\n"
   ]
  },
  {
   "cell_type": "code",
   "execution_count": 26,
   "metadata": {
    "execution": {
     "iopub.execute_input": "2023-05-20T10:09:58.907111Z",
     "iopub.status.busy": "2023-05-20T10:09:58.906726Z",
     "iopub.status.idle": "2023-05-20T10:10:04.514825Z",
     "shell.execute_reply": "2023-05-20T10:10:04.513953Z",
     "shell.execute_reply.started": "2023-05-20T10:09:58.907080Z"
    },
    "id": "q0RBl3QwQ8zX",
    "outputId": "36b24128-b9ab-45ef-9dd3-daa1f78a1a90"
   },
   "outputs": [
    {
     "data": {
      "application/vnd.jupyter.widget-view+json": {
       "model_id": "3fc8defee6644b49b045097068abacfd",
       "version_major": 2,
       "version_minor": 0
      },
      "text/plain": [
       "Downloading pytorch_model.bin:   0%|          | 0.00/440M [00:00<?, ?B/s]"
      ]
     },
     "metadata": {},
     "output_type": "display_data"
    },
    {
     "name": "stderr",
     "output_type": "stream",
     "text": [
      "Some weights of the model checkpoint at bert-base-uncased were not used when initializing BertModel: ['cls.predictions.transform.LayerNorm.bias', 'cls.predictions.transform.dense.bias', 'cls.seq_relationship.bias', 'cls.predictions.transform.dense.weight', 'cls.predictions.decoder.weight', 'cls.predictions.transform.LayerNorm.weight', 'cls.seq_relationship.weight', 'cls.predictions.bias']\n",
      "- This IS expected if you are initializing BertModel from the checkpoint of a model trained on another task or with another architecture (e.g. initializing a BertForSequenceClassification model from a BertForPreTraining model).\n",
      "- This IS NOT expected if you are initializing BertModel from the checkpoint of a model that you expect to be exactly identical (initializing a BertForSequenceClassification model from a BertForSequenceClassification model).\n",
      "Some weights of the model checkpoint at bert-base-uncased were not used when initializing BertModel: ['cls.predictions.transform.LayerNorm.bias', 'cls.predictions.transform.dense.bias', 'cls.seq_relationship.bias', 'cls.predictions.transform.dense.weight', 'cls.predictions.decoder.weight', 'cls.predictions.transform.LayerNorm.weight', 'cls.seq_relationship.weight', 'cls.predictions.bias']\n",
      "- This IS expected if you are initializing BertModel from the checkpoint of a model trained on another task or with another architecture (e.g. initializing a BertForSequenceClassification model from a BertForPreTraining model).\n",
      "- This IS NOT expected if you are initializing BertModel from the checkpoint of a model that you expect to be exactly identical (initializing a BertForSequenceClassification model from a BertForSequenceClassification model).\n"
     ]
    }
   ],
   "source": [
    "model = BertClassifier(num_classes=num_classes)"
   ]
  },
  {
   "cell_type": "code",
   "execution_count": 33,
   "metadata": {
    "execution": {
     "iopub.execute_input": "2023-05-20T10:15:08.654550Z",
     "iopub.status.busy": "2023-05-20T10:15:08.654134Z",
     "iopub.status.idle": "2023-05-20T10:15:08.669776Z",
     "shell.execute_reply": "2023-05-20T10:15:08.668493Z",
     "shell.execute_reply.started": "2023-05-20T10:15:08.654516Z"
    },
    "id": "1CYGmHRpHURQ"
   },
   "outputs": [
    {
     "data": {
      "text/plain": [
       "[0.7016527517464645,\n",
       " 0.45342435586875135,\n",
       " 4.621773288439955,\n",
       " 1.0388496468213926,\n",
       " 5.252551020408164]"
      ]
     },
     "execution_count": 33,
     "metadata": {},
     "output_type": "execute_result"
    }
   ],
   "source": [
    "# Вычисление весов классов на основе их распределения в данных\n",
    "class_counts = read_financial['label'].value_counts()\n",
    "total_samples = len(read_financial)\n",
    "class_weights = [total_samples / (class_counts[label] * len(class_counts)) for label in sorted(class_counts.keys())]\n",
    "\n",
    "# Преобразование весов классов в тензор\n",
    "class_weights_tensor = torch.tensor(class_weights, dtype=torch.float)\n",
    "class_weights_tensor = class_weights_tensor.to(device)\n",
    "# Создание экземпляра функции потерь с учетом весов классов\n",
    "criterion = nn.CrossEntropyLoss(weight=class_weights_tensor)\n",
    "class_weights"
   ]
  },
  {
   "cell_type": "code",
   "execution_count": 52,
   "metadata": {
    "execution": {
     "iopub.execute_input": "2023-05-24T09:41:28.683452Z",
     "iopub.status.busy": "2023-05-24T09:41:28.683082Z",
     "iopub.status.idle": "2023-05-24T09:41:28.694995Z",
     "shell.execute_reply": "2023-05-24T09:41:28.694094Z",
     "shell.execute_reply.started": "2023-05-24T09:41:28.683422Z"
    },
    "id": "z8FBlKLxRGrk",
    "outputId": "9a393d81-a991-46d3-fb61-a75f4ef930a1"
   },
   "outputs": [
    {
     "name": "stdout",
     "output_type": "stream",
     "text": [
      "Using device: cuda\n",
      "Tesla P100-PCIE-16GB\n",
      "Memory Usage:\n",
      "Allocated: 0.0 GB\n",
      "Cached:    0.0 GB\n"
     ]
    }
   ],
   "source": [
    "# Установка вычислительного устройства для обучения модели\n",
    "device = torch.device('cuda' if torch.cuda.is_available() else 'cpu')\n",
    "print('Using device:', device)\n",
    "\n",
    "if device.type == 'cuda':\n",
    "    print(torch.cuda.get_device_name(0))\n",
    "    print('Memory Usage:')\n",
    "    print('Allocated:', round(torch.cuda.memory_allocated(0)/1024**3,1), 'GB')\n",
    "    print('Cached:   ', round(torch.cuda.memory_cached(0)/1024**3,1), 'GB')\n",
    "\n",
    "# model.to(device)"
   ]
  },
  {
   "cell_type": "code",
   "execution_count": 30,
   "metadata": {
    "execution": {
     "iopub.execute_input": "2023-05-20T10:11:16.463444Z",
     "iopub.status.busy": "2023-05-20T10:11:16.463091Z",
     "iopub.status.idle": "2023-05-20T10:11:16.468007Z",
     "shell.execute_reply": "2023-05-20T10:11:16.467052Z",
     "shell.execute_reply.started": "2023-05-20T10:11:16.463417Z"
    },
    "id": "sw3s6kqlAHIt"
   },
   "outputs": [],
   "source": [
    "train_losses = []\n",
    "test_losses = []"
   ]
  },
  {
   "cell_type": "code",
   "execution_count": null,
   "metadata": {
    "execution": {
     "iopub.status.busy": "2023-05-20T09:58:42.285955Z",
     "iopub.status.idle": "2023-05-20T09:58:42.286647Z",
     "shell.execute_reply": "2023-05-20T09:58:42.286430Z",
     "shell.execute_reply.started": "2023-05-20T09:58:42.286407Z"
    },
    "id": "wSym5G_aAg9n"
   },
   "outputs": [],
   "source": [
    "# device = torch.device (\"cpu\")\n",
    "# model.to(device)"
   ]
  },
  {
   "cell_type": "code",
   "execution_count": 36,
   "metadata": {
    "execution": {
     "iopub.execute_input": "2023-05-20T10:23:41.486627Z",
     "iopub.status.busy": "2023-05-20T10:23:41.486278Z",
     "iopub.status.idle": "2023-05-20T10:31:28.183328Z",
     "shell.execute_reply": "2023-05-20T10:31:28.182021Z",
     "shell.execute_reply.started": "2023-05-20T10:23:41.486601Z"
    },
    "id": "4H-AQHrFK71Z",
    "outputId": "8770631c-2db5-4211-f51c-324c54fc3f8a"
   },
   "outputs": [
    {
     "name": "stdout",
     "output_type": "stream",
     "text": [
      "Epoch: 0\n",
      "Batch: 0\n",
      "Batch: 10\n",
      "Batch: 20\n",
      "Batch: 30\n",
      "Batch: 40\n",
      "Batch: 50\n",
      "Batch: 60\n",
      "Batch: 70\n",
      "Batch: 80\n",
      "Batch: 90\n",
      "Batch: 100\n",
      "Batch: 110\n",
      "Batch: 120\n",
      "Batch: 130\n",
      "Batch: 140\n",
      "Batch: 150\n",
      "Batch: 160\n",
      "Batch: 170\n",
      "Batch: 180\n",
      "Batch: 190\n",
      "Batch: 200\n",
      "Batch: 210\n",
      "Batch: 220\n",
      "Batch: 230\n",
      "Batch: 240\n",
      "Batch: 250\n",
      "Epoch [1/12], Train Loss: 1.3174, Test Loss: 1.2763\n",
      "Epoch: 1\n",
      "Batch: 0\n",
      "Batch: 10\n",
      "Batch: 20\n",
      "Batch: 30\n",
      "Batch: 40\n",
      "Batch: 50\n",
      "Batch: 60\n",
      "Batch: 70\n",
      "Batch: 80\n",
      "Batch: 90\n",
      "Batch: 100\n",
      "Batch: 110\n",
      "Batch: 120\n",
      "Batch: 130\n",
      "Batch: 140\n",
      "Batch: 150\n",
      "Batch: 160\n",
      "Batch: 170\n",
      "Batch: 180\n",
      "Batch: 190\n",
      "Batch: 200\n",
      "Batch: 210\n",
      "Batch: 220\n",
      "Batch: 230\n",
      "Batch: 240\n",
      "Batch: 250\n",
      "Epoch [2/12], Train Loss: 1.3154, Test Loss: 1.2788\n",
      "Epoch: 2\n",
      "Batch: 0\n",
      "Batch: 10\n",
      "Batch: 20\n",
      "Batch: 30\n",
      "Batch: 40\n",
      "Batch: 50\n",
      "Batch: 60\n",
      "Batch: 70\n",
      "Batch: 80\n",
      "Batch: 90\n",
      "Batch: 100\n",
      "Batch: 110\n",
      "Batch: 120\n",
      "Batch: 130\n",
      "Batch: 140\n",
      "Batch: 150\n",
      "Batch: 160\n",
      "Batch: 170\n",
      "Batch: 180\n",
      "Batch: 190\n",
      "Batch: 200\n",
      "Batch: 210\n",
      "Batch: 220\n",
      "Batch: 230\n",
      "Batch: 240\n",
      "Batch: 250\n",
      "Epoch [3/12], Train Loss: 1.3093, Test Loss: 1.2755\n",
      "Epoch: 3\n",
      "Batch: 0\n",
      "Batch: 10\n",
      "Batch: 20\n",
      "Batch: 30\n",
      "Batch: 40\n",
      "Batch: 50\n"
     ]
    },
    {
     "ename": "KeyboardInterrupt",
     "evalue": "",
     "output_type": "error",
     "traceback": [
      "\u001b[0;31m---------------------------------------------------------------------------\u001b[0m",
      "\u001b[0;31mKeyboardInterrupt\u001b[0m                         Traceback (most recent call last)",
      "Cell \u001b[0;32mIn[36], line 18\u001b[0m\n\u001b[1;32m     16\u001b[0m     loss\u001b[38;5;241m.\u001b[39mbackward()\n\u001b[1;32m     17\u001b[0m     optimizer\u001b[38;5;241m.\u001b[39mstep()\n\u001b[0;32m---> 18\u001b[0m     train_loss \u001b[38;5;241m+\u001b[39m\u001b[38;5;241m=\u001b[39m \u001b[43mloss\u001b[49m\u001b[38;5;241;43m.\u001b[39;49m\u001b[43mitem\u001b[49m\u001b[43m(\u001b[49m\u001b[43m)\u001b[49m\n\u001b[1;32m     19\u001b[0m train_loss \u001b[38;5;241m/\u001b[39m\u001b[38;5;241m=\u001b[39m \u001b[38;5;28mlen\u001b[39m(train_loader)\n\u001b[1;32m     20\u001b[0m train_losses\u001b[38;5;241m.\u001b[39mappend(train_loss)    \n",
      "\u001b[0;31mKeyboardInterrupt\u001b[0m: "
     ]
    }
   ],
   "source": [
    "from torch.optim import AdamW\n",
    "optimizer = AdamW(model.parameters(), lr=1e-4)\n",
    "epochs = 5\n",
    "for epoch in range(epochs):\n",
    "    print(\"Epoch: \" + str(epoch))\n",
    "    # Обучение модели на тренировочном наборе\n",
    "    train_loss = 0.0\n",
    "    model.train()\n",
    "    for batch_idx, (input_ids, attention_mask, token_train, labels) in enumerate(train_loader):\n",
    "        if batch_idx % 10 == 0:\n",
    "          print(\"Batch: \" + str(batch_idx))\n",
    "        input_ids, attention_mask, token_train, labels = input_ids.to(device), attention_mask.to(device), token_train.to(device), labels.to(device)\n",
    "        optimizer.zero_grad()\n",
    "        outputs = model(input_ids=input_ids, attention_mask=attention_mask, token_train=token_train)\n",
    "        loss = criterion(outputs, labels)\n",
    "        loss.backward()\n",
    "        optimizer.step()\n",
    "        train_loss += loss.item()\n",
    "    train_loss /= len(train_loader)\n",
    "    train_losses.append(train_loss)    \n",
    "    \n",
    "    # Оценка модели на тестовом наборе\n",
    "    test_loss = 0.0\n",
    "    model.eval()\n",
    "    with torch.no_grad():\n",
    "        for batch_idx, (input_ids, attention_mask, token_test, labels) in enumerate(test_loader):\n",
    "            input_ids, attention_mask, token_test, labels = input_ids.to(device), attention_mask.to(device), token_test.to(device), labels.to(device)\n",
    "            outputs = model(input_ids=input_ids, attention_mask=attention_mask, token_train = token_test)\n",
    "            loss = criterion(outputs, labels)\n",
    "            test_loss += loss.item()\n",
    "    test_loss /= len(test_loader)\n",
    "    test_losses.append(test_loss)\n",
    "\n",
    "    # Вывод информации о процессе обучения\n",
    "    print('Epoch [{}/{}], Train Loss: {:.4f}, Test Loss: {:.4f}'.format(epoch+1, epochs, train_loss, test_loss))   "
   ]
  },
  {
   "cell_type": "code",
   "execution_count": 49,
   "metadata": {
    "execution": {
     "iopub.execute_input": "2023-05-20T12:53:13.416825Z",
     "iopub.status.busy": "2023-05-20T12:53:13.416444Z",
     "iopub.status.idle": "2023-05-20T13:06:45.863303Z",
     "shell.execute_reply": "2023-05-20T13:06:45.861897Z",
     "shell.execute_reply.started": "2023-05-20T12:53:13.416797Z"
    },
    "id": "JeiXPWp1LQ4V",
    "outputId": "9bae78b5-c245-428c-f432-feafc840e302"
   },
   "outputs": [
    {
     "name": "stdout",
     "output_type": "stream",
     "text": [
      "Epoch: 0\n",
      "Batch: 0\n",
      "Batch: 10\n",
      "Batch: 20\n",
      "Batch: 30\n",
      "Batch: 40\n",
      "Batch: 50\n",
      "Batch: 60\n",
      "Batch: 70\n",
      "Batch: 80\n",
      "Batch: 90\n",
      "Batch: 100\n",
      "Batch: 110\n",
      "Batch: 120\n",
      "Batch: 130\n",
      "Batch: 140\n",
      "Batch: 150\n",
      "Batch: 160\n",
      "Batch: 170\n",
      "Batch: 180\n",
      "Batch: 190\n",
      "Batch: 200\n",
      "Batch: 210\n",
      "Batch: 220\n",
      "Batch: 230\n",
      "Batch: 240\n",
      "Batch: 250\n",
      "Epoch [1/3], Train Loss: 0.5890, Test Loss: 0.6172\n",
      "Epoch: 1\n",
      "Batch: 0\n",
      "Batch: 10\n",
      "Batch: 20\n",
      "Batch: 30\n",
      "Batch: 40\n",
      "Batch: 50\n",
      "Batch: 60\n",
      "Batch: 70\n",
      "Batch: 80\n",
      "Batch: 90\n",
      "Batch: 100\n",
      "Batch: 110\n",
      "Batch: 120\n",
      "Batch: 130\n",
      "Batch: 140\n",
      "Batch: 150\n",
      "Batch: 160\n",
      "Batch: 170\n",
      "Batch: 180\n",
      "Batch: 190\n",
      "Batch: 200\n",
      "Batch: 210\n",
      "Batch: 220\n",
      "Batch: 230\n",
      "Batch: 240\n",
      "Batch: 250\n",
      "Epoch [2/3], Train Loss: 0.5821, Test Loss: 0.6187\n",
      "Epoch: 2\n",
      "Batch: 0\n",
      "Batch: 10\n",
      "Batch: 20\n",
      "Batch: 30\n"
     ]
    },
    {
     "ename": "KeyboardInterrupt",
     "evalue": "",
     "output_type": "error",
     "traceback": [
      "\u001b[0;31m---------------------------------------------------------------------------\u001b[0m",
      "\u001b[0;31mKeyboardInterrupt\u001b[0m                         Traceback (most recent call last)",
      "Cell \u001b[0;32mIn[49], line 28\u001b[0m\n\u001b[1;32m     26\u001b[0m outputs \u001b[38;5;241m=\u001b[39m model(input_ids\u001b[38;5;241m=\u001b[39minput_ids, attention_mask\u001b[38;5;241m=\u001b[39mattention_mask, token_train\u001b[38;5;241m=\u001b[39mtoken_train)\n\u001b[1;32m     27\u001b[0m loss \u001b[38;5;241m=\u001b[39m criterion(outputs, labels)\n\u001b[0;32m---> 28\u001b[0m \u001b[43mloss\u001b[49m\u001b[38;5;241;43m.\u001b[39;49m\u001b[43mbackward\u001b[49m\u001b[43m(\u001b[49m\u001b[43m)\u001b[49m\n\u001b[1;32m     29\u001b[0m optimizer\u001b[38;5;241m.\u001b[39mstep()\n\u001b[1;32m     30\u001b[0m train_loss \u001b[38;5;241m+\u001b[39m\u001b[38;5;241m=\u001b[39m loss\u001b[38;5;241m.\u001b[39mitem()\n",
      "File \u001b[0;32m/opt/conda/lib/python3.10/site-packages/torch/_tensor.py:487\u001b[0m, in \u001b[0;36mTensor.backward\u001b[0;34m(self, gradient, retain_graph, create_graph, inputs)\u001b[0m\n\u001b[1;32m    477\u001b[0m \u001b[38;5;28;01mif\u001b[39;00m has_torch_function_unary(\u001b[38;5;28mself\u001b[39m):\n\u001b[1;32m    478\u001b[0m     \u001b[38;5;28;01mreturn\u001b[39;00m handle_torch_function(\n\u001b[1;32m    479\u001b[0m         Tensor\u001b[38;5;241m.\u001b[39mbackward,\n\u001b[1;32m    480\u001b[0m         (\u001b[38;5;28mself\u001b[39m,),\n\u001b[0;32m   (...)\u001b[0m\n\u001b[1;32m    485\u001b[0m         inputs\u001b[38;5;241m=\u001b[39minputs,\n\u001b[1;32m    486\u001b[0m     )\n\u001b[0;32m--> 487\u001b[0m \u001b[43mtorch\u001b[49m\u001b[38;5;241;43m.\u001b[39;49m\u001b[43mautograd\u001b[49m\u001b[38;5;241;43m.\u001b[39;49m\u001b[43mbackward\u001b[49m\u001b[43m(\u001b[49m\n\u001b[1;32m    488\u001b[0m \u001b[43m    \u001b[49m\u001b[38;5;28;43mself\u001b[39;49m\u001b[43m,\u001b[49m\u001b[43m \u001b[49m\u001b[43mgradient\u001b[49m\u001b[43m,\u001b[49m\u001b[43m \u001b[49m\u001b[43mretain_graph\u001b[49m\u001b[43m,\u001b[49m\u001b[43m \u001b[49m\u001b[43mcreate_graph\u001b[49m\u001b[43m,\u001b[49m\u001b[43m \u001b[49m\u001b[43minputs\u001b[49m\u001b[38;5;241;43m=\u001b[39;49m\u001b[43minputs\u001b[49m\n\u001b[1;32m    489\u001b[0m \u001b[43m\u001b[49m\u001b[43m)\u001b[49m\n",
      "File \u001b[0;32m/opt/conda/lib/python3.10/site-packages/torch/autograd/__init__.py:200\u001b[0m, in \u001b[0;36mbackward\u001b[0;34m(tensors, grad_tensors, retain_graph, create_graph, grad_variables, inputs)\u001b[0m\n\u001b[1;32m    195\u001b[0m     retain_graph \u001b[38;5;241m=\u001b[39m create_graph\n\u001b[1;32m    197\u001b[0m \u001b[38;5;66;03m# The reason we repeat same the comment below is that\u001b[39;00m\n\u001b[1;32m    198\u001b[0m \u001b[38;5;66;03m# some Python versions print out the first line of a multi-line function\u001b[39;00m\n\u001b[1;32m    199\u001b[0m \u001b[38;5;66;03m# calls in the traceback and some print out the last line\u001b[39;00m\n\u001b[0;32m--> 200\u001b[0m \u001b[43mVariable\u001b[49m\u001b[38;5;241;43m.\u001b[39;49m\u001b[43m_execution_engine\u001b[49m\u001b[38;5;241;43m.\u001b[39;49m\u001b[43mrun_backward\u001b[49m\u001b[43m(\u001b[49m\u001b[43m  \u001b[49m\u001b[38;5;66;43;03m# Calls into the C++ engine to run the backward pass\u001b[39;49;00m\n\u001b[1;32m    201\u001b[0m \u001b[43m    \u001b[49m\u001b[43mtensors\u001b[49m\u001b[43m,\u001b[49m\u001b[43m \u001b[49m\u001b[43mgrad_tensors_\u001b[49m\u001b[43m,\u001b[49m\u001b[43m \u001b[49m\u001b[43mretain_graph\u001b[49m\u001b[43m,\u001b[49m\u001b[43m \u001b[49m\u001b[43mcreate_graph\u001b[49m\u001b[43m,\u001b[49m\u001b[43m \u001b[49m\u001b[43minputs\u001b[49m\u001b[43m,\u001b[49m\n\u001b[1;32m    202\u001b[0m \u001b[43m    \u001b[49m\u001b[43mallow_unreachable\u001b[49m\u001b[38;5;241;43m=\u001b[39;49m\u001b[38;5;28;43;01mTrue\u001b[39;49;00m\u001b[43m,\u001b[49m\u001b[43m \u001b[49m\u001b[43maccumulate_grad\u001b[49m\u001b[38;5;241;43m=\u001b[39;49m\u001b[38;5;28;43;01mTrue\u001b[39;49;00m\u001b[43m)\u001b[49m\n",
      "\u001b[0;31mKeyboardInterrupt\u001b[0m: "
     ]
    }
   ],
   "source": [
    "model.dropout = nn.Dropout(0.7)\n",
    "# layer1 = ['pooler.dense.', 'encoder.layer.11.', 'encoder.layer.10.', 'encoder.layer.9.']\n",
    "pars1 = []\n",
    "for name, param in model.bert2.named_parameters():\n",
    "    pars1.append(param)\n",
    "            \n",
    "for name, param in model.bert1.named_parameters():\n",
    "    pars1.append(param)\n",
    "                \n",
    "for param in pars1:\n",
    "    param.requires_grad = True\n",
    "    \n",
    "from torch.optim import AdamW\n",
    "optimizer = AdamW(model.parameters(), lr=1e-7)\n",
    "epochs = 3\n",
    "for epoch in range(epochs):\n",
    "    print(\"Epoch: \" + str(epoch))\n",
    "    # Обучение модели на тренировочном наборе\n",
    "    train_loss = 0.0\n",
    "    model.train()\n",
    "    for batch_idx, (input_ids, attention_mask, token_train, labels) in enumerate(train_loader):\n",
    "        if batch_idx % 10 == 0:\n",
    "          print(\"Batch: \" + str(batch_idx))\n",
    "        input_ids, attention_mask, token_train, labels = input_ids.to(device), attention_mask.to(device), token_train.to(device), labels.to(device)\n",
    "        optimizer.zero_grad()\n",
    "        outputs = model(input_ids=input_ids, attention_mask=attention_mask, token_train=token_train)\n",
    "        loss = criterion(outputs, labels)\n",
    "        loss.backward()\n",
    "        optimizer.step()\n",
    "        train_loss += loss.item()\n",
    "    train_loss /= len(train_loader)\n",
    "    train_losses.append(train_loss)    \n",
    "    \n",
    "    # Оценка модели на тестовом наборе\n",
    "    test_loss = 0.0\n",
    "    model.eval()\n",
    "    with torch.no_grad():\n",
    "        for batch_idx, (input_ids, attention_mask, token_test, labels) in enumerate(test_loader):\n",
    "            input_ids, attention_mask, token_test, labels = input_ids.to(device), attention_mask.to(device), token_test.to(device), labels.to(device)\n",
    "            outputs = model(input_ids=input_ids, attention_mask=attention_mask, token_train = token_test)\n",
    "            loss = criterion(outputs, labels)\n",
    "            test_loss += loss.item()\n",
    "    test_loss /= len(test_loader)\n",
    "    test_losses.append(test_loss)\n",
    "\n",
    "    # Вывод информации о процессе обучения\n",
    "    print('Epoch [{}/{}], Train Loss: {:.4f}, Test Loss: {:.4f}'.format(epoch+1, epochs, train_loss, test_loss))   \n",
    "    \n",
    "for param in pars1:\n",
    "    param.requires_grad = False"
   ]
  },
  {
   "cell_type": "code",
   "execution_count": null,
   "metadata": {
    "id": "wDCQ3M7AF7Ct",
    "outputId": "1a669596-d587-4c1d-8add-51174c68c1b6"
   },
   "outputs": [],
   "source": [
    "for name, param in model.bert1.named_parameters():\n",
    "    if param.requires_grad == False:\n",
    "        print(name)"
   ]
  },
  {
   "cell_type": "code",
   "execution_count": 50,
   "metadata": {
    "execution": {
     "iopub.execute_input": "2023-05-20T13:06:53.886840Z",
     "iopub.status.busy": "2023-05-20T13:06:53.886482Z",
     "iopub.status.idle": "2023-05-20T13:06:54.119968Z",
     "shell.execute_reply": "2023-05-20T13:06:54.118979Z",
     "shell.execute_reply.started": "2023-05-20T13:06:53.886813Z"
    },
    "id": "O0KzfM-lKII7",
    "outputId": "427766c1-7dd1-423b-9a61-8af46b03b652"
   },
   "outputs": [
    {
     "data": {
      "image/png": "[encoded data removed]",
      "text/plain": [
       "<Figure size 640x480 with 1 Axes>"
      ]
     },
     "metadata": {},
     "output_type": "display_data"
    }
   ],
   "source": [
    "# Построение графика изменения значения функции потерь в процессе обучения\n",
    "plt.plot(train_losses, label='Train Loss')\n",
    "plt.plot(test_losses, label='Test Loss')\n",
    "plt.xlabel('Epoch')\n",
    "plt.ylabel('Loss')\n",
    "plt.legend()\n",
    "plt.show()"
   ]
  },
  {
   "cell_type": "code",
   "execution_count": 54,
   "metadata": {
    "execution": {
     "iopub.execute_input": "2023-05-24T09:44:32.603090Z",
     "iopub.status.busy": "2023-05-24T09:44:32.602728Z",
     "iopub.status.idle": "2023-05-24T10:15:24.312084Z",
     "shell.execute_reply": "2023-05-24T10:15:24.311073Z",
     "shell.execute_reply.started": "2023-05-24T09:44:32.603059Z"
    },
    "id": "XangjWYtr4Rh",
    "outputId": "d52d563f-f3f0-414f-ec49-1d80eda54d5f"
   },
   "outputs": [
    {
     "name": "stdout",
     "output_type": "stream",
     "text": [
      "0\n",
      "1\n",
      "2\n",
      "3\n",
      "4\n",
      "5\n",
      "6\n",
      "7\n",
      "8\n",
      "9\n",
      "10\n",
      "11\n",
      "12\n",
      "13\n",
      "14\n",
      "15\n",
      "16\n",
      "17\n",
      "18\n",
      "19\n",
      "20\n",
      "21\n",
      "22\n",
      "23\n",
      "24\n",
      "25\n",
      "26\n",
      "27\n",
      "28\n",
      "29\n",
      "30\n",
      "31\n",
      "32\n",
      "33\n",
      "34\n",
      "35\n",
      "36\n",
      "37\n",
      "38\n",
      "39\n",
      "40\n",
      "41\n",
      "42\n",
      "43\n",
      "44\n",
      "45\n",
      "46\n",
      "47\n",
      "48\n",
      "49\n",
      "50\n",
      "51\n",
      "52\n",
      "53\n",
      "54\n",
      "55\n",
      "56\n",
      "57\n",
      "58\n",
      "59\n",
      "60\n",
      "61\n",
      "62\n",
      "63\n",
      "64\n",
      "              precision    recall  f1-score   support\n",
      "\n",
      "           0       0.86      0.77      0.81      1201\n",
      "           1       0.92      0.79      0.85      1799\n",
      "           2       0.38      0.64      0.48       183\n",
      "           3       0.82      0.92      0.87       788\n",
      "           4       0.39      0.82      0.53       147\n",
      "\n",
      "    accuracy                           0.80      4118\n",
      "   macro avg       0.68      0.79      0.71      4118\n",
      "weighted avg       0.84      0.80      0.82      4118\n",
      "\n"
     ]
    }
   ],
   "source": [
    "import onnxruntime as rt\n",
    "import numpy as np\n",
    "\n",
    "# Создание сессии ONNX Runtime с указанием использования GPU\n",
    "session = rt.InferenceSession('/kaggle/input/mybertonnx/bert_model.onnx', providers=['CUDAExecutionProvider'])\n",
    "\n",
    "# Вычисление метрик на тестовом наборе данных\n",
    "y_pred = []\n",
    "y_true = []\n",
    "for batch_idx, (input_ids, attention_mask, token_test, labels) in enumerate(test_loader):\n",
    "    batch_size = input_ids.size(0)\n",
    "    print (batch_idx)\n",
    "    for i in range(batch_size):\n",
    "        # Извлечение текущего элемента из батча\n",
    "        input_ids_single = input_ids[i:i+1]\n",
    "        attention_mask_single = attention_mask[i:i+1]\n",
    "        token_test_single = token_test[i:i+1]\n",
    "        labels_single = labels[i:i+1]\n",
    "\n",
    "        # Преобразование входных данных в формат ONNX\n",
    "        input_data = {'input.1': input_ids_single.numpy(), 'attention_mask': attention_mask_single.numpy(), 'input.3': token_test_single.numpy()}\n",
    "\n",
    "        # Вычисление предсказаний модели\n",
    "        outputs = session.run(None, input_data)\n",
    "\n",
    "        # Получение предсказанных меток классов\n",
    "        predicted = np.argmax(outputs[0], axis=1)\n",
    "        y_pred.extend(predicted)\n",
    "        y_true.extend(labels_single.numpy())\n",
    "\n",
    "# Вычисление и вывод метрик классификации\n",
    "from sklearn.metrics import classification_report\n",
    "print(classification_report(y_true, y_pred))\n"
   ]
  },
  {
   "cell_type": "code",
   "execution_count": 52,
   "metadata": {
    "execution": {
     "iopub.execute_input": "2023-05-20T13:08:51.938158Z",
     "iopub.status.busy": "2023-05-20T13:08:51.937767Z",
     "iopub.status.idle": "2023-05-20T13:08:53.246556Z",
     "shell.execute_reply": "2023-05-20T13:08:53.245407Z",
     "shell.execute_reply.started": "2023-05-20T13:08:51.938129Z"
    },
    "id": "BIzsq_F9KAs8"
   },
   "outputs": [],
   "source": [
    "torch.save(model.state_dict(), 'model_state_dict1.pth')"
   ]
  },
  {
   "cell_type": "code",
   "execution_count": 49,
   "metadata": {
    "execution": {
     "iopub.execute_input": "2023-05-24T09:35:45.278805Z",
     "iopub.status.busy": "2023-05-24T09:35:45.278408Z",
     "iopub.status.idle": "2023-05-24T09:35:45.312367Z",
     "shell.execute_reply": "2023-05-24T09:35:45.311286Z",
     "shell.execute_reply.started": "2023-05-24T09:35:45.278772Z"
    },
    "id": "Cof3CDQSKAs8",
    "outputId": "04ba646a-82fc-4ac7-8d4e-e47ccdbff6e7"
   },
   "outputs": [
    {
     "ename": "NameError",
     "evalue": "name 'BertClassifier' is not defined",
     "output_type": "error",
     "traceback": [
      "\u001b[0;31m---------------------------------------------------------------------------\u001b[0m",
      "\u001b[0;31mNameError\u001b[0m                                 Traceback (most recent call last)",
      "Cell \u001b[0;32mIn[49], line 3\u001b[0m\n\u001b[1;32m      1\u001b[0m \u001b[38;5;66;03m# !pip install onnx\u001b[39;00m\n\u001b[1;32m      2\u001b[0m \u001b[38;5;66;03m# локально\u001b[39;00m\n\u001b[0;32m----> 3\u001b[0m model \u001b[38;5;241m=\u001b[39m \u001b[43mBertClassifier\u001b[49m(num_classes\u001b[38;5;241m=\u001b[39mnum_classes)\n\u001b[1;32m      4\u001b[0m model\u001b[38;5;241m.\u001b[39mload_state_dict(torch\u001b[38;5;241m.\u001b[39mload(\u001b[38;5;124m'\u001b[39m\u001b[38;5;124mmodel_state_dict1.pth\u001b[39m\u001b[38;5;124m'\u001b[39m))\n\u001b[1;32m      6\u001b[0m dummy_input_ids \u001b[38;5;241m=\u001b[39m torch\u001b[38;5;241m.\u001b[39mzeros((\u001b[38;5;241m1\u001b[39m, \u001b[38;5;241m128\u001b[39m), dtype\u001b[38;5;241m=\u001b[39mtorch\u001b[38;5;241m.\u001b[39mlong)\n",
      "\u001b[0;31mNameError\u001b[0m: name 'BertClassifier' is not defined"
     ]
    }
   ],
   "source": [
    "# !pip install onnx\n",
    "# локально\n",
    "model = BertClassifier(num_classes=num_classes)\n",
    "model.load_state_dict(torch.load('model_state_dict1.pth'))\n",
    "\n",
    "dummy_input_ids = torch.zeros((1, 128), dtype=torch.long)\n",
    "dummy_attention_mask = torch.zeros((1, 128), dtype=torch.long)\n",
    "dummy_token_id = torch.zeros((1, 128), dtype=torch.long)\n",
    "torch.onnx.export(\n",
    "    model,\n",
    "    (dummy_input_ids, dummy_attention_mask, dummy_token_id),\n",
    "    'bert_new.onnx',\n",
    "    opset_version=11\n",
    ")"
   ]
  },
  {
   "cell_type": "code",
   "execution_count": 42,
   "metadata": {
    "execution": {
     "iopub.execute_input": "2023-05-24T08:51:00.207222Z",
     "iopub.status.busy": "2023-05-24T08:51:00.206865Z",
     "iopub.status.idle": "2023-05-24T08:51:15.418490Z",
     "shell.execute_reply": "2023-05-24T08:51:15.416841Z",
     "shell.execute_reply.started": "2023-05-24T08:51:00.207194Z"
    }
   },
   "outputs": [
    {
     "name": "stdout",
     "output_type": "stream",
     "text": [
      "Collecting onnxruntime\n",
      "  Downloading onnxruntime-1.15.0-cp310-cp310-manylinux_2_17_x86_64.manylinux2014_x86_64.whl (5.9 MB)\n",
      "\u001b[2K     \u001b[90m━━━━━━━━━━━━━━━━━━━━━━━━━━━━━━━━━━━━━━━━\u001b[0m \u001b[32m5.9/5.9 MB\u001b[0m \u001b[31m54.3 MB/s\u001b[0m eta \u001b[36m0:00:00\u001b[0m00:01\u001b[0m00:01\u001b[0m\n",
      "\u001b[?25hRequirement already satisfied: flatbuffers in /opt/conda/lib/python3.10/site-packages (from onnxruntime) (23.3.3)\n",
      "Requirement already satisfied: numpy>=1.21.6 in /opt/conda/lib/python3.10/site-packages (from onnxruntime) (1.23.5)\n",
      "Requirement already satisfied: sympy in /opt/conda/lib/python3.10/site-packages (from onnxruntime) (1.11.1)\n",
      "Collecting coloredlogs\n",
      "  Downloading coloredlogs-15.0.1-py2.py3-none-any.whl (46 kB)\n",
      "\u001b[2K     \u001b[90m━━━━━━━━━━━━━━━━━━━━━━━━━━━━━━━━━━━━━━━━\u001b[0m \u001b[32m46.0/46.0 kB\u001b[0m \u001b[31m4.8 MB/s\u001b[0m eta \u001b[36m0:00:00\u001b[0m\n",
      "\u001b[?25hRequirement already satisfied: packaging in /opt/conda/lib/python3.10/site-packages (from onnxruntime) (21.3)\n",
      "Requirement already satisfied: protobuf in /opt/conda/lib/python3.10/site-packages (from onnxruntime) (3.20.3)\n",
      "Collecting humanfriendly>=9.1\n",
      "  Downloading humanfriendly-10.0-py2.py3-none-any.whl (86 kB)\n",
      "\u001b[2K     \u001b[90m━━━━━━━━━━━━━━━━━━━━━━━━━━━━━━━━━━━━━━━━\u001b[0m \u001b[32m86.8/86.8 kB\u001b[0m \u001b[31m8.7 MB/s\u001b[0m eta \u001b[36m0:00:00\u001b[0m\n",
      "\u001b[?25hRequirement already satisfied: pyparsing!=3.0.5,>=2.0.2 in /opt/conda/lib/python3.10/site-packages (from packaging->onnxruntime) (3.0.9)\n",
      "Requirement already satisfied: mpmath>=0.19 in /opt/conda/lib/python3.10/site-packages (from sympy->onnxruntime) (1.3.0)\n",
      "Installing collected packages: humanfriendly, coloredlogs, onnxruntime\n",
      "Successfully installed coloredlogs-15.0.1 humanfriendly-10.0 onnxruntime-1.15.0\n",
      "\u001b[33mWARNING: Running pip as the 'root' user can result in broken permissions and conflicting behaviour with the system package manager. It is recommended to use a virtual environment instead: https://pip.pypa.io/warnings/venv\u001b[0m\u001b[33m\n",
      "\u001b[0m"
     ]
    },
    {
     "ename": "TypeError",
     "evalue": "can't convert cuda:0 device type tensor to numpy. Use Tensor.cpu() to copy the tensor to host memory first.",
     "output_type": "error",
     "traceback": [
      "\u001b[0;31m---------------------------------------------------------------------------\u001b[0m",
      "\u001b[0;31mTypeError\u001b[0m                                 Traceback (most recent call last)",
      "Cell \u001b[0;32mIn[42], line 36\u001b[0m\n\u001b[1;32m     34\u001b[0m \u001b[38;5;28;01mfor\u001b[39;00m batch_idx, (input_ids, attention_mask, token_test, labels) \u001b[38;5;129;01min\u001b[39;00m \u001b[38;5;28menumerate\u001b[39m(test_loader):\n\u001b[1;32m     35\u001b[0m     input_ids, attention_mask, token_test, labels \u001b[38;5;241m=\u001b[39m input_ids\u001b[38;5;241m.\u001b[39mto(device), attention_mask\u001b[38;5;241m.\u001b[39mto(device), token_test\u001b[38;5;241m.\u001b[39mto(device), labels\u001b[38;5;241m.\u001b[39mto(device)\n\u001b[0;32m---> 36\u001b[0m     outputs \u001b[38;5;241m=\u001b[39m \u001b[43mforward\u001b[49m\u001b[43m(\u001b[49m\u001b[43minput_ids\u001b[49m\u001b[43m,\u001b[49m\u001b[43m \u001b[49m\u001b[43mattention_mask\u001b[49m\u001b[43m,\u001b[49m\u001b[43m \u001b[49m\u001b[43mtoken_test\u001b[49m\u001b[43m)\u001b[49m  \u001b[38;5;66;03m# Вызов функции forward с входными данными\u001b[39;00m\n\u001b[1;32m     37\u001b[0m     _, predicted \u001b[38;5;241m=\u001b[39m torch\u001b[38;5;241m.\u001b[39mmax(torch\u001b[38;5;241m.\u001b[39mtensor(outputs[\u001b[38;5;241m0\u001b[39m]), \u001b[38;5;241m1\u001b[39m)  \u001b[38;5;66;03m# Предполагаем, что предсказания находятся в первом выходе модели\u001b[39;00m\n\u001b[1;32m     38\u001b[0m     y_pred\u001b[38;5;241m.\u001b[39mextend(predicted\u001b[38;5;241m.\u001b[39mcpu()\u001b[38;5;241m.\u001b[39mnumpy())\n",
      "Cell \u001b[0;32mIn[42], line 17\u001b[0m, in \u001b[0;36mforward\u001b[0;34m(input_ids, attention_mask, token_test)\u001b[0m\n\u001b[1;32m     15\u001b[0m \u001b[38;5;28;01mdef\u001b[39;00m \u001b[38;5;21mforward\u001b[39m(input_ids, attention_mask, token_test):\n\u001b[1;32m     16\u001b[0m     \u001b[38;5;66;03m# Преобразование входных данных в массивы NumPy\u001b[39;00m\n\u001b[0;32m---> 17\u001b[0m     input_ids_np \u001b[38;5;241m=\u001b[39m \u001b[43mnp\u001b[49m\u001b[38;5;241;43m.\u001b[39;49m\u001b[43marray\u001b[49m\u001b[43m(\u001b[49m\u001b[43minput_ids\u001b[49m\u001b[43m)\u001b[49m\n\u001b[1;32m     18\u001b[0m     attention_mask_np \u001b[38;5;241m=\u001b[39m np\u001b[38;5;241m.\u001b[39marray(attention_mask)\n\u001b[1;32m     19\u001b[0m     token_test_np \u001b[38;5;241m=\u001b[39m np\u001b[38;5;241m.\u001b[39marray(token_test)\n",
      "File \u001b[0;32m/opt/conda/lib/python3.10/site-packages/torch/_tensor.py:970\u001b[0m, in \u001b[0;36mTensor.__array__\u001b[0;34m(self, dtype)\u001b[0m\n\u001b[1;32m    968\u001b[0m     \u001b[38;5;28;01mreturn\u001b[39;00m handle_torch_function(Tensor\u001b[38;5;241m.\u001b[39m__array__, (\u001b[38;5;28mself\u001b[39m,), \u001b[38;5;28mself\u001b[39m, dtype\u001b[38;5;241m=\u001b[39mdtype)\n\u001b[1;32m    969\u001b[0m \u001b[38;5;28;01mif\u001b[39;00m dtype \u001b[38;5;129;01mis\u001b[39;00m \u001b[38;5;28;01mNone\u001b[39;00m:\n\u001b[0;32m--> 970\u001b[0m     \u001b[38;5;28;01mreturn\u001b[39;00m \u001b[38;5;28;43mself\u001b[39;49m\u001b[38;5;241;43m.\u001b[39;49m\u001b[43mnumpy\u001b[49m\u001b[43m(\u001b[49m\u001b[43m)\u001b[49m\n\u001b[1;32m    971\u001b[0m \u001b[38;5;28;01melse\u001b[39;00m:\n\u001b[1;32m    972\u001b[0m     \u001b[38;5;28;01mreturn\u001b[39;00m \u001b[38;5;28mself\u001b[39m\u001b[38;5;241m.\u001b[39mnumpy()\u001b[38;5;241m.\u001b[39mastype(dtype, copy\u001b[38;5;241m=\u001b[39m\u001b[38;5;28;01mFalse\u001b[39;00m)\n",
      "\u001b[0;31mTypeError\u001b[0m: can't convert cuda:0 device type tensor to numpy. Use Tensor.cpu() to copy the tensor to host memory first."
     ]
    }
   ],
   "source": []
  }
 ],
 "metadata": {
  "kernelspec": {
   "display_name": "Python 3 (ipykernel)",
   "language": "python",
   "name": "python3"
  },
  "language_info": {
   "codemirror_mode": {
    "name": "ipython",
    "version": 3
   },
   "file_extension": ".py",
   "mimetype": "text/x-python",
   "name": "python",
   "nbconvert_exporter": "python",
   "pygments_lexer": "ipython3",
   "version": "3.10.6"
  }
 },
 "nbformat": 4,
 "nbformat_minor": 4
}

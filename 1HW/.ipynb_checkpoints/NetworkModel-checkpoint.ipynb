{
 "cells": [
  {
   "cell_type": "code",
   "execution_count": 44,
   "id": "319e5b8a",
   "metadata": {},
   "outputs": [],
   "source": [
    "# !pip install pandas\n",
    "# !pip install matplotlib\n",
    "# !pip install seaborn\n",
    "\n",
    "import pandas as pd\n",
    "import matplotlib.pyplot as plt\n",
    "import seaborn as sns\n",
    "\n",
    "import re\n",
    "from pathlib import Path\n",
    "import numpy as np"
   ]
  },
  {
   "cell_type": "code",
   "execution_count": 45,
   "id": "31c378c7",
   "metadata": {},
   "outputs": [
    {
     "name": "stdout",
     "output_type": "stream",
     "text": [
      "78313\n"
     ]
    }
   ],
   "source": [
    "verbose: bool = True\n",
    "dataset2 = \"/home/user/IT/jupyter/датасеты/financial.json\"\n",
    "data2 = pd.read_json(dataset2)\n",
    "sub_data: pd.DataFrame = data2[\"_source\"].apply(pd.Series)\n",
    "data2 = pd.concat([data2.drop(columns=\"_source\"), sub_data], axis=1)\n",
    "if verbose:\n",
    "    print(data2.shape[0])\n"
   ]
  },
  {
   "cell_type": "code",
   "execution_count": 46,
   "id": "91f4f34e",
   "metadata": {
    "scrolled": true
   },
   "outputs": [
    {
     "data": {
      "text/html": [
       "<div>\n",
       "<style scoped>\n",
       "    .dataframe tbody tr th:only-of-type {\n",
       "        vertical-align: middle;\n",
       "    }\n",
       "\n",
       "    .dataframe tbody tr th {\n",
       "        vertical-align: top;\n",
       "    }\n",
       "\n",
       "    .dataframe thead th {\n",
       "        text-align: right;\n",
       "    }\n",
       "</style>\n",
       "<table border=\"1\" class=\"dataframe\">\n",
       "  <thead>\n",
       "    <tr style=\"text-align: right;\">\n",
       "      <th></th>\n",
       "      <th>_index</th>\n",
       "      <th>_type</th>\n",
       "      <th>_id</th>\n",
       "      <th>_score</th>\n",
       "      <th>tags</th>\n",
       "      <th>zip_code</th>\n",
       "      <th>complaint_id</th>\n",
       "      <th>issue</th>\n",
       "      <th>date_received</th>\n",
       "      <th>state</th>\n",
       "      <th>...</th>\n",
       "      <th>company_response</th>\n",
       "      <th>company</th>\n",
       "      <th>submitted_via</th>\n",
       "      <th>date_sent_to_company</th>\n",
       "      <th>company_public_response</th>\n",
       "      <th>sub_product</th>\n",
       "      <th>timely</th>\n",
       "      <th>complaint_what_happened</th>\n",
       "      <th>sub_issue</th>\n",
       "      <th>consumer_consent_provided</th>\n",
       "    </tr>\n",
       "  </thead>\n",
       "  <tbody>\n",
       "    <tr>\n",
       "      <th>0</th>\n",
       "      <td>complaint-public-v2</td>\n",
       "      <td>complaint</td>\n",
       "      <td>3211475</td>\n",
       "      <td>0</td>\n",
       "      <td>None</td>\n",
       "      <td>90301</td>\n",
       "      <td>3211475</td>\n",
       "      <td>Attempts to collect debt not owed</td>\n",
       "      <td>2019-04-13T12:00:00-05:00</td>\n",
       "      <td>CA</td>\n",
       "      <td>...</td>\n",
       "      <td>Closed with explanation</td>\n",
       "      <td>JPMORGAN CHASE &amp; CO.</td>\n",
       "      <td>Web</td>\n",
       "      <td>2019-04-13T12:00:00-05:00</td>\n",
       "      <td>None</td>\n",
       "      <td>Credit card debt</td>\n",
       "      <td>Yes</td>\n",
       "      <td></td>\n",
       "      <td>Debt is not yours</td>\n",
       "      <td>Consent not provided</td>\n",
       "    </tr>\n",
       "    <tr>\n",
       "      <th>1</th>\n",
       "      <td>complaint-public-v2</td>\n",
       "      <td>complaint</td>\n",
       "      <td>3229299</td>\n",
       "      <td>0</td>\n",
       "      <td>Servicemember</td>\n",
       "      <td>319XX</td>\n",
       "      <td>3229299</td>\n",
       "      <td>Written notification about debt</td>\n",
       "      <td>2019-05-01T12:00:00-05:00</td>\n",
       "      <td>GA</td>\n",
       "      <td>...</td>\n",
       "      <td>Closed with explanation</td>\n",
       "      <td>JPMORGAN CHASE &amp; CO.</td>\n",
       "      <td>Web</td>\n",
       "      <td>2019-05-01T12:00:00-05:00</td>\n",
       "      <td>None</td>\n",
       "      <td>Credit card debt</td>\n",
       "      <td>Yes</td>\n",
       "      <td>Good morning my name is XXXX XXXX and I apprec...</td>\n",
       "      <td>Didn't receive enough information to verify debt</td>\n",
       "      <td>Consent provided</td>\n",
       "    </tr>\n",
       "    <tr>\n",
       "      <th>2</th>\n",
       "      <td>complaint-public-v2</td>\n",
       "      <td>complaint</td>\n",
       "      <td>3199379</td>\n",
       "      <td>0</td>\n",
       "      <td>None</td>\n",
       "      <td>77069</td>\n",
       "      <td>3199379</td>\n",
       "      <td>Other features, terms, or problems</td>\n",
       "      <td>2019-04-02T12:00:00-05:00</td>\n",
       "      <td>TX</td>\n",
       "      <td>...</td>\n",
       "      <td>Closed with explanation</td>\n",
       "      <td>JPMORGAN CHASE &amp; CO.</td>\n",
       "      <td>Web</td>\n",
       "      <td>2019-04-02T12:00:00-05:00</td>\n",
       "      <td>None</td>\n",
       "      <td>General-purpose credit card or charge card</td>\n",
       "      <td>Yes</td>\n",
       "      <td>I upgraded my XXXX XXXX card in XX/XX/2018 and...</td>\n",
       "      <td>Problem with rewards from credit card</td>\n",
       "      <td>Consent provided</td>\n",
       "    </tr>\n",
       "    <tr>\n",
       "      <th>3</th>\n",
       "      <td>complaint-public-v2</td>\n",
       "      <td>complaint</td>\n",
       "      <td>2673060</td>\n",
       "      <td>0</td>\n",
       "      <td>None</td>\n",
       "      <td>48066</td>\n",
       "      <td>2673060</td>\n",
       "      <td>Trouble during payment process</td>\n",
       "      <td>2017-09-13T12:00:00-05:00</td>\n",
       "      <td>MI</td>\n",
       "      <td>...</td>\n",
       "      <td>Closed with explanation</td>\n",
       "      <td>JPMORGAN CHASE &amp; CO.</td>\n",
       "      <td>Web</td>\n",
       "      <td>2017-09-14T12:00:00-05:00</td>\n",
       "      <td>None</td>\n",
       "      <td>Conventional home mortgage</td>\n",
       "      <td>Yes</td>\n",
       "      <td></td>\n",
       "      <td>None</td>\n",
       "      <td>Consent not provided</td>\n",
       "    </tr>\n",
       "    <tr>\n",
       "      <th>4</th>\n",
       "      <td>complaint-public-v2</td>\n",
       "      <td>complaint</td>\n",
       "      <td>3203545</td>\n",
       "      <td>0</td>\n",
       "      <td>None</td>\n",
       "      <td>10473</td>\n",
       "      <td>3203545</td>\n",
       "      <td>Fees or interest</td>\n",
       "      <td>2019-04-05T12:00:00-05:00</td>\n",
       "      <td>NY</td>\n",
       "      <td>...</td>\n",
       "      <td>Closed with explanation</td>\n",
       "      <td>JPMORGAN CHASE &amp; CO.</td>\n",
       "      <td>Referral</td>\n",
       "      <td>2019-04-05T12:00:00-05:00</td>\n",
       "      <td>None</td>\n",
       "      <td>General-purpose credit card or charge card</td>\n",
       "      <td>Yes</td>\n",
       "      <td></td>\n",
       "      <td>Charged too much interest</td>\n",
       "      <td>N/A</td>\n",
       "    </tr>\n",
       "  </tbody>\n",
       "</table>\n",
       "<p>5 rows × 22 columns</p>\n",
       "</div>"
      ],
      "text/plain": [
       "                _index      _type      _id  _score           tags zip_code   \n",
       "0  complaint-public-v2  complaint  3211475       0           None    90301  \\\n",
       "1  complaint-public-v2  complaint  3229299       0  Servicemember    319XX   \n",
       "2  complaint-public-v2  complaint  3199379       0           None    77069   \n",
       "3  complaint-public-v2  complaint  2673060       0           None    48066   \n",
       "4  complaint-public-v2  complaint  3203545       0           None    10473   \n",
       "\n",
       "  complaint_id                               issue              date_received   \n",
       "0      3211475   Attempts to collect debt not owed  2019-04-13T12:00:00-05:00  \\\n",
       "1      3229299     Written notification about debt  2019-05-01T12:00:00-05:00   \n",
       "2      3199379  Other features, terms, or problems  2019-04-02T12:00:00-05:00   \n",
       "3      2673060      Trouble during payment process  2017-09-13T12:00:00-05:00   \n",
       "4      3203545                    Fees or interest  2019-04-05T12:00:00-05:00   \n",
       "\n",
       "  state  ...         company_response               company submitted_via   \n",
       "0    CA  ...  Closed with explanation  JPMORGAN CHASE & CO.           Web  \\\n",
       "1    GA  ...  Closed with explanation  JPMORGAN CHASE & CO.           Web   \n",
       "2    TX  ...  Closed with explanation  JPMORGAN CHASE & CO.           Web   \n",
       "3    MI  ...  Closed with explanation  JPMORGAN CHASE & CO.           Web   \n",
       "4    NY  ...  Closed with explanation  JPMORGAN CHASE & CO.      Referral   \n",
       "\n",
       "        date_sent_to_company company_public_response   \n",
       "0  2019-04-13T12:00:00-05:00                    None  \\\n",
       "1  2019-05-01T12:00:00-05:00                    None   \n",
       "2  2019-04-02T12:00:00-05:00                    None   \n",
       "3  2017-09-14T12:00:00-05:00                    None   \n",
       "4  2019-04-05T12:00:00-05:00                    None   \n",
       "\n",
       "                                  sub_product timely   \n",
       "0                            Credit card debt    Yes  \\\n",
       "1                            Credit card debt    Yes   \n",
       "2  General-purpose credit card or charge card    Yes   \n",
       "3                  Conventional home mortgage    Yes   \n",
       "4  General-purpose credit card or charge card    Yes   \n",
       "\n",
       "                             complaint_what_happened   \n",
       "0                                                     \\\n",
       "1  Good morning my name is XXXX XXXX and I apprec...   \n",
       "2  I upgraded my XXXX XXXX card in XX/XX/2018 and...   \n",
       "3                                                      \n",
       "4                                                      \n",
       "\n",
       "                                          sub_issue consumer_consent_provided  \n",
       "0                                 Debt is not yours      Consent not provided  \n",
       "1  Didn't receive enough information to verify debt          Consent provided  \n",
       "2             Problem with rewards from credit card          Consent provided  \n",
       "3                                              None      Consent not provided  \n",
       "4                         Charged too much interest                       N/A  \n",
       "\n",
       "[5 rows x 22 columns]"
      ]
     },
     "execution_count": 46,
     "metadata": {},
     "output_type": "execute_result"
    }
   ],
   "source": [
    "data2.head()"
   ]
  },
  {
   "cell_type": "code",
   "execution_count": 47,
   "id": "cef0f032",
   "metadata": {},
   "outputs": [
    {
     "name": "stdout",
     "output_type": "stream",
     "text": [
      "21072\n"
     ]
    }
   ],
   "source": [
    "data2[\"complaint_what_happened\"] = data2[\"complaint_what_happened\"].map(lambda x: re.sub(r\"XXXX|XX/XX/\\d{4}\", \"\", x))\n",
    "filtered_data = data2[data2[\"complaint_what_happened\"].str.len() != 0]\n",
    "if verbose:\n",
    "    print(filtered_data.shape[0])\n"
   ]
  },
  {
   "cell_type": "code",
   "execution_count": 48,
   "id": "012952de",
   "metadata": {},
   "outputs": [],
   "source": [
    "def simplify_text(s):\n",
    "    # Remove all non-word characters (everything except numbers and letters)\n",
    "    s = re.sub(r\"[^\\w\\s]\", ' ', s)\n",
    "\n",
    "    # Replace all runs of whitespace with a single dash\n",
    "    s = re.sub(r\"\\s+\", '-', s)\n",
    "\n",
    "    return s\n"
   ]
  },
  {
   "cell_type": "code",
   "execution_count": 49,
   "id": "1eb01bfd",
   "metadata": {},
   "outputs": [
    {
     "name": "stdout",
     "output_type": "stream",
     "text": [
      "Fixing missing values ...\n",
      "Nan values in 'product': 0\n",
      "Nan values in 'sub_product': 0\n"
     ]
    },
    {
     "name": "stderr",
     "output_type": "stream",
     "text": [
      "/tmp/ipykernel_25720/544244931.py:6: SettingWithCopyWarning: \n",
      "A value is trying to be set on a copy of a slice from a DataFrame.\n",
      "Try using .loc[row_indexer,col_indexer] = value instead\n",
      "\n",
      "See the caveats in the documentation: https://pandas.pydata.org/pandas-docs/stable/user_guide/indexing.html#returning-a-view-versus-a-copy\n",
      "  filtered_data[\"sub_product\"] = filtered_data[\"sub_product\"].fillna(filtered_data[\"product\"])\n"
     ]
    }
   ],
   "source": [
    "    threshold: int = 30\n",
    "    \n",
    "    # Fill missing sub_products fields with product values\n",
    "    if verbose:\n",
    "        print(\"Fixing missing values ...\")\n",
    "    filtered_data[\"sub_product\"] = filtered_data[\"sub_product\"].fillna(filtered_data[\"product\"])\n",
    "\n",
    "    null_prods = filtered_data[\"product\"].isnull().sum()\n",
    "    null_subs = filtered_data[\"sub_product\"].isnull().sum()\n",
    "    if verbose:\n",
    "        print(f\"Nan values in 'product': {null_prods}\")\n",
    "        print(f\"Nan values in 'sub_product': {null_subs}\")\n",
    "\n",
    "   "
   ]
  },
  {
   "cell_type": "code",
   "execution_count": 51,
   "id": "9d28619c",
   "metadata": {},
   "outputs": [],
   "source": [
    " # Clean useless columns\n",
    "keep = [\"complaint_what_happened\", \"product\", \"sub_product\"]\n",
    "filtered_data = filtered_data.loc[:, keep]\n",
    "filtered_data.columns = [\"message\", \"label\", \"sub_label\"]\n",
    "    "
   ]
  },
  {
   "cell_type": "code",
   "execution_count": 52,
   "id": "ffadd0b8",
   "metadata": {},
   "outputs": [],
   "source": [
    "# Delete duplicate rows\n",
    "filtered_data = filtered_data.drop_duplicates(subset=[\"message\"], keep=\"first\")\n",
    "filtered_data = filtered_data.dropna(axis=0)\n",
    "\n",
    "filtered_data.loc[:, \"label\"] = filtered_data[\"label\"].map(simplify_text)\n",
    "filtered_data = filtered_data.dropna(axis=0)\n",
    "filtered_data.loc[:, \"sub_label\"] = filtered_data[\"sub_label\"].map(simplify_text)\n",
    "filtered_data = filtered_data.dropna(axis=0)\n",
    "filtered_data[\"flattened_label\"] = filtered_data[\"label\"] + \"_\" + filtered_data[\"sub_label\"]\n",
    "filtered_data = filtered_data.reset_index(drop=True)\n",
    "\n",
    "    \n",
    "    \n"
   ]
  },
  {
   "cell_type": "code",
   "execution_count": 53,
   "id": "baab7258",
   "metadata": {},
   "outputs": [
    {
     "name": "stdout",
     "output_type": "stream",
     "text": [
      "Final dataset of size: (20590, 4)\n",
      "        message\n",
      "          label\n",
      "      sub_label\n",
      "flattened_label\n",
      "message            0\n",
      "label              0\n",
      "sub_label          0\n",
      "flattened_label    0\n",
      "dtype: int64\n",
      "20590\n"
     ]
    }
   ],
   "source": [
    "# Remove categories appearing < tot times\n",
    "c1 = filtered_data[\"label\"].value_counts()\n",
    "filtered_data = filtered_data.replace(c1[c1 < threshold].index, np.nan).dropna(axis=0)\n",
    "c2 = filtered_data[\"sub_label\"].value_counts()\n",
    "filtered_data = filtered_data.replace(c2[c2 < threshold].index, np.nan).dropna(axis=0)\n",
    "filtered_data = filtered_data.reset_index(drop=True)\n",
    "\n",
    "if verbose:\n",
    "    print(f\"Final dataset of size: {filtered_data.shape}\")\n",
    "    print(filtered_data.columns.to_series().to_string(index=False))\n",
    "    print(filtered_data.isnull().sum(axis=0))\n",
    "    print(filtered_data.shape[0])"
   ]
  },
  {
   "cell_type": "code",
   "execution_count": 57,
   "id": "c170aa54",
   "metadata": {},
   "outputs": [
    {
     "data": {
      "text/html": [
       "<div>\n",
       "<style scoped>\n",
       "    .dataframe tbody tr th:only-of-type {\n",
       "        vertical-align: middle;\n",
       "    }\n",
       "\n",
       "    .dataframe tbody tr th {\n",
       "        vertical-align: top;\n",
       "    }\n",
       "\n",
       "    .dataframe thead th {\n",
       "        text-align: right;\n",
       "    }\n",
       "</style>\n",
       "<table border=\"1\" class=\"dataframe\">\n",
       "  <thead>\n",
       "    <tr style=\"text-align: right;\">\n",
       "      <th></th>\n",
       "      <th>message</th>\n",
       "      <th>label</th>\n",
       "      <th>sub_label</th>\n",
       "      <th>flattened_label</th>\n",
       "    </tr>\n",
       "  </thead>\n",
       "  <tbody>\n",
       "    <tr>\n",
       "      <th>0</th>\n",
       "      <td>Good morning my name is   and I appreciate it ...</td>\n",
       "      <td>Debt-collection</td>\n",
       "      <td>Credit-card-debt</td>\n",
       "      <td>Debt-collection_Credit-card-debt</td>\n",
       "    </tr>\n",
       "    <tr>\n",
       "      <th>1</th>\n",
       "      <td>I upgraded my   card in  and was told by the a...</td>\n",
       "      <td>Credit-card-or-prepaid-card</td>\n",
       "      <td>General-purpose-credit-card-or-charge-card</td>\n",
       "      <td>Credit-card-or-prepaid-card_General-purpose-cr...</td>\n",
       "    </tr>\n",
       "    <tr>\n",
       "      <th>2</th>\n",
       "      <td>Chase Card was reported on . However, fraudule...</td>\n",
       "      <td>Credit-reporting-credit-repair-services-or-oth...</td>\n",
       "      <td>Other-personal-consumer-report</td>\n",
       "      <td>Credit-reporting-credit-repair-services-or-oth...</td>\n",
       "    </tr>\n",
       "    <tr>\n",
       "      <th>3</th>\n",
       "      <td>On , while trying to book a     ticket, I came...</td>\n",
       "      <td>Credit-reporting-credit-repair-services-or-oth...</td>\n",
       "      <td>Credit-reporting</td>\n",
       "      <td>Credit-reporting-credit-repair-services-or-oth...</td>\n",
       "    </tr>\n",
       "    <tr>\n",
       "      <th>4</th>\n",
       "      <td>my grand son give me check for {$1600.00} i de...</td>\n",
       "      <td>Checking-or-savings-account</td>\n",
       "      <td>Checking-account</td>\n",
       "      <td>Checking-or-savings-account_Checking-account</td>\n",
       "    </tr>\n",
       "  </tbody>\n",
       "</table>\n",
       "</div>"
      ],
      "text/plain": [
       "                                             message   \n",
       "0  Good morning my name is   and I appreciate it ...  \\\n",
       "1  I upgraded my   card in  and was told by the a...   \n",
       "2  Chase Card was reported on . However, fraudule...   \n",
       "3  On , while trying to book a     ticket, I came...   \n",
       "4  my grand son give me check for {$1600.00} i de...   \n",
       "\n",
       "                                               label   \n",
       "0                                    Debt-collection  \\\n",
       "1                        Credit-card-or-prepaid-card   \n",
       "2  Credit-reporting-credit-repair-services-or-oth...   \n",
       "3  Credit-reporting-credit-repair-services-or-oth...   \n",
       "4                        Checking-or-savings-account   \n",
       "\n",
       "                                    sub_label   \n",
       "0                            Credit-card-debt  \\\n",
       "1  General-purpose-credit-card-or-charge-card   \n",
       "2              Other-personal-consumer-report   \n",
       "3                            Credit-reporting   \n",
       "4                            Checking-account   \n",
       "\n",
       "                                     flattened_label  \n",
       "0                   Debt-collection_Credit-card-debt  \n",
       "1  Credit-card-or-prepaid-card_General-purpose-cr...  \n",
       "2  Credit-reporting-credit-repair-services-or-oth...  \n",
       "3  Credit-reporting-credit-repair-services-or-oth...  \n",
       "4       Checking-or-savings-account_Checking-account  "
      ]
     },
     "execution_count": 57,
     "metadata": {},
     "output_type": "execute_result"
    }
   ],
   "source": [
    "filtered_data.head()"
   ]
  },
  {
   "cell_type": "code",
   "execution_count": 59,
   "id": "13c95bc7",
   "metadata": {},
   "outputs": [
    {
     "data": {
      "text/plain": [
       "14"
      ]
     },
     "execution_count": 59,
     "metadata": {},
     "output_type": "execute_result"
    }
   ],
   "source": [
    "len(filtered_data.label.unique())"
   ]
  },
  {
   "cell_type": "code",
   "execution_count": 60,
   "id": "d7809257",
   "metadata": {},
   "outputs": [
    {
     "data": {
      "text/plain": [
       "array(['Debt-collection', 'Credit-card-or-prepaid-card',\n",
       "       'Credit-reporting-credit-repair-services-or-other-personal-consumer-reports',\n",
       "       'Checking-or-savings-account', 'Vehicle-loan-or-lease',\n",
       "       'Money-transfer-virtual-currency-or-money-service', 'Mortgage',\n",
       "       'Consumer-Loan', 'Bank-account-or-service', 'Credit-card',\n",
       "       'Credit-reporting', 'Student-loan', 'Money-transfers',\n",
       "       'Payday-loan-title-loan-or-personal-loan'], dtype=object)"
      ]
     },
     "execution_count": 60,
     "metadata": {},
     "output_type": "execute_result"
    }
   ],
   "source": [
    "filtered_data.label.unique()"
   ]
  },
  {
   "cell_type": "code",
   "execution_count": 62,
   "id": "7961131a",
   "metadata": {},
   "outputs": [
    {
     "data": {
      "text/plain": [
       "'Good morning my name is   and I appreciate it if you could help me put a stop to Chase Bank cardmember services. \\nIn 2018 I wrote to Chase asking for debt verification and what they sent me a statement which is not acceptable. I am asking the bank to validate the debt. Instead I been receiving mail every month from them attempting to collect a debt. \\nI have a right to know this information as a consumer. \\n\\nChase account #     Thanks in advance for your help.'"
      ]
     },
     "execution_count": 62,
     "metadata": {},
     "output_type": "execute_result"
    }
   ],
   "source": [
    "filtered_data[\"message\"][0]"
   ]
  },
  {
   "cell_type": "code",
   "execution_count": 63,
   "id": "78d00d93",
   "metadata": {},
   "outputs": [
    {
     "data": {
      "text/plain": [
       "20590"
      ]
     },
     "execution_count": 63,
     "metadata": {},
     "output_type": "execute_result"
    }
   ],
   "source": [
    "len(filtered_data.message.unique())"
   ]
  },
  {
   "cell_type": "code",
   "execution_count": null,
   "id": "e4cf73ae",
   "metadata": {},
   "outputs": [],
   "source": []
  }
 ],
 "metadata": {
  "kernelspec": {
   "display_name": "Python 3 (ipykernel)",
   "language": "python",
   "name": "python3"
  },
  "language_info": {
   "codemirror_mode": {
    "name": "ipython",
    "version": 3
   },
   "file_extension": ".py",
   "mimetype": "text/x-python",
   "name": "python",
   "nbconvert_exporter": "python",
   "pygments_lexer": "ipython3",
   "version": "3.10.6"
  }
 },
 "nbformat": 4,
 "nbformat_minor": 5
}
